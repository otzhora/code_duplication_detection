{
 "cells": [
  {
   "cell_type": "code",
   "execution_count": 1,
   "metadata": {},
   "outputs": [
    {
     "name": "stdout",
     "output_type": "stream",
     "text": [
      "Python 3.8.5 (default, Jan 27 2021, 15:41:15) \n",
      "[GCC 9.3.0] on linux\n"
     ]
    }
   ],
   "source": [
    "%load_ext autoreload\n",
    "%autoreload 2\n",
    "\n",
    "import sys\n",
    "print('Python %s on %s' % (sys.version, sys.platform))\n",
    "sys.path.extend(['/mnt/c/Users/Yuriy Rogachev/PycharmProjects/code duplication detection', '/mnt/c/Users/Yuriy Rogachev/PycharmProjects/code duplication detection'])\n",
    "\n",
    "import os\n",
    "from pathlib import Path\n",
    "\n",
    "cwd = os.getcwd()\n",
    "test_dir = Path(cwd).parent/\"duplication\"/\"test_data\""
   ]
  },
  {
   "cell_type": "code",
   "execution_count": 2,
   "metadata": {},
   "outputs": [],
   "source": [
    "from typing import *"
   ]
  },
  {
   "cell_type": "markdown",
   "metadata": {},
   "source": [
    "# Set similarities"
   ]
  },
  {
   "cell_type": "code",
   "execution_count": 3,
   "metadata": {},
   "outputs": [],
   "source": [
    "from duplication.run import *"
   ]
  },
  {
   "cell_type": "code",
   "execution_count": 4,
   "metadata": {},
   "outputs": [],
   "source": [
    "identifiers1 = get_identifiers_sequence_from_file(test_dir/\"test_file_clone1.py\", \"Python\")\n",
    "identifiers2 = get_identifiers_sequence_from_file(test_dir/\"test_file_clone2.py\", \"Python\")"
   ]
  },
  {
   "cell_type": "code",
   "execution_count": 5,
   "metadata": {},
   "outputs": [
    {
     "data": {
      "text/plain": [
       "['some_func1',\n",
       " 'a',\n",
       " 's',\n",
       " 'x',\n",
       " 'a',\n",
       " 's',\n",
       " 'x',\n",
       " 's',\n",
       " '__name__',\n",
       " 'lst',\n",
       " 'print',\n",
       " 'some_func1',\n",
       " 'lst']"
      ]
     },
     "execution_count": 5,
     "metadata": {},
     "output_type": "execute_result"
    }
   ],
   "source": [
    "identifiers1"
   ]
  },
  {
   "cell_type": "code",
   "execution_count": 7,
   "metadata": {},
   "outputs": [
    {
     "data": {
      "text/plain": [
       "15"
      ]
     },
     "execution_count": 7,
     "metadata": {},
     "output_type": "execute_result"
    }
   ],
   "source": [
    "len(identifiers2)"
   ]
  },
  {
   "cell_type": "code",
   "execution_count": 6,
   "metadata": {
    "scrolled": true
   },
   "outputs": [
    {
     "data": {
      "text/plain": [
       "['some_func1',\n",
       " 'a',\n",
       " 's',\n",
       " 'x',\n",
       " 'a',\n",
       " 's',\n",
       " 'x',\n",
       " 's',\n",
       " 'x',\n",
       " 's',\n",
       " '__name__',\n",
       " 'lst',\n",
       " 'print',\n",
       " 'some_func1',\n",
       " 'lst']"
      ]
     },
     "execution_count": 6,
     "metadata": {},
     "output_type": "execute_result"
    }
   ],
   "source": [
    "identifiers2"
   ]
  },
  {
   "cell_type": "code",
   "execution_count": null,
   "metadata": {},
   "outputs": [],
   "source": [
    "from collections import Counter"
   ]
  },
  {
   "cell_type": "code",
   "execution_count": 14,
   "metadata": {},
   "outputs": [],
   "source": [
    "def overlap(bag_of_tokens1: List[str], bag_of_tokens2: List[str]) -> float:\n",
    "    \"\"\"\n",
    "    Given two bag of tokens return their overlap\n",
    "    :param bag_of_tokens1: \n",
    "    :param bag_of_tokens2:\n",
    "    :return: value of overlap\n",
    "    \"\"\"\n",
    "    return len(Counter(bag_of_tokens1) & Counter(bag_of_tokens2))"
   ]
  },
  {
   "cell_type": "code",
   "execution_count": 15,
   "metadata": {},
   "outputs": [],
   "source": [
    "def jaccard(bag_of_tokens1: List[str], bag_of_tokens2: List[str]) -> float:\n",
    "    \"\"\"\n",
    "    Given two bag of tokens return their jaccard similarity\n",
    "    :param bag_of_tokens1: \n",
    "    :param bag_of_tokens2:\n",
    "    :return: value of overlap\n",
    "    \"\"\"\n",
    "    return overlap(bag_of_tokens1, bag_of_tokens2) / max(len(bag_of_tokens1), len(bag_of_tokens2))"
   ]
  },
  {
   "cell_type": "code",
   "execution_count": 16,
   "metadata": {},
   "outputs": [
    {
     "data": {
      "text/plain": [
       "7"
      ]
     },
     "execution_count": 16,
     "metadata": {},
     "output_type": "execute_result"
    }
   ],
   "source": [
    "overlap(identifiers1, identifiers2)"
   ]
  },
  {
   "cell_type": "code",
   "execution_count": 17,
   "metadata": {},
   "outputs": [
    {
     "data": {
      "text/plain": [
       "0.4666666666666667"
      ]
     },
     "execution_count": 17,
     "metadata": {},
     "output_type": "execute_result"
    }
   ],
   "source": [
    "jaccard(identifiers1, identifiers2)"
   ]
  },
  {
   "cell_type": "code",
   "execution_count": 18,
   "metadata": {},
   "outputs": [],
   "source": [
    "id1 = ['HelloWorld',\n",
    " 'main',\n",
    " 'String',\n",
    " 'args',\n",
    " 'System',\n",
    " 'out',\n",
    " 'println',\n",
    " 'SomeFunction',\n",
    " 'a',\n",
    " 'System',\n",
    " 'out',\n",
    " 'println',\n",
    " 'a']\n",
    "\n",
    "id2 = ['main', 'String', 'args', 'System', 'out', 'println']"
   ]
  },
  {
   "cell_type": "code",
   "execution_count": 19,
   "metadata": {},
   "outputs": [
    {
     "data": {
      "text/plain": [
       "0.46153846153846156"
      ]
     },
     "execution_count": 19,
     "metadata": {},
     "output_type": "execute_result"
    }
   ],
   "source": [
    "jaccard(id1, id2)"
   ]
  },
  {
   "cell_type": "code",
   "execution_count": null,
   "metadata": {},
   "outputs": [],
   "source": []
  }
 ],
 "metadata": {
  "kernelspec": {
   "display_name": "Python 3",
   "language": "python",
   "name": "python3"
  },
  "language_info": {
   "codemirror_mode": {
    "name": "ipython",
    "version": 3
   },
   "file_extension": ".py",
   "mimetype": "text/x-python",
   "name": "python",
   "nbconvert_exporter": "python",
   "pygments_lexer": "ipython3",
   "version": "3.8.5"
  }
 },
 "nbformat": 4,
 "nbformat_minor": 4
}
