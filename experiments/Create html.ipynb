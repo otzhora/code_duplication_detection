{
 "cells": [
  {
   "cell_type": "code",
   "execution_count": 1,
   "id": "d9ed80e1",
   "metadata": {},
   "outputs": [
    {
     "name": "stdout",
     "output_type": "stream",
     "text": [
      "Python 3.8.5 (default, Jan 27 2021, 15:41:15) \n",
      "[GCC 9.3.0] on linux\n"
     ]
    }
   ],
   "source": [
    "%load_ext autoreload\n",
    "%autoreload 2\n",
    "\n",
    "import sys\n",
    "print('Python %s on %s' % (sys.version, sys.platform))\n",
    "sys.path.extend(['/mnt/c/Users/Yuriy Rogachev/PycharmProjects/code duplication detection', '/mnt/c/Users/Yuriy Rogachev/PycharmProjects/code duplication detection'])\n",
    "\n",
    "import os\n",
    "from pathlib import Path\n",
    "from typing import *\n",
    "\n",
    "cwd = os.getcwd()\n",
    "test_dir = Path(cwd).parent/\"duplication\""
   ]
  },
  {
   "cell_type": "code",
   "execution_count": null,
   "id": "8b9b99cb",
   "metadata": {},
   "outputs": [],
   "source": []
  },
  {
   "cell_type": "markdown",
   "id": "84106ad7",
   "metadata": {},
   "source": [
    "# Get html"
   ]
  },
  {
   "cell_type": "code",
   "execution_count": 2,
   "id": "d9741e5c",
   "metadata": {},
   "outputs": [],
   "source": [
    "from duplication.detectors import NaiveDetector\n",
    "\n",
    "naive_detector = NaiveDetector()\n",
    "results = naive_detector.detect(test_dir.parent, 0.8, \"functions\")"
   ]
  },
  {
   "cell_type": "code",
   "execution_count": 11,
   "id": "c178a751",
   "metadata": {},
   "outputs": [],
   "source": [
    "from duplication.models import *"
   ]
  },
  {
   "cell_type": "code",
   "execution_count": 67,
   "id": "22bc95ba",
   "metadata": {},
   "outputs": [],
   "source": [
    "from difflib import HtmlDiff\n",
    "\n",
    "def get_formatted_detection_result(result: DetectionResult) -> str:\n",
    "    differ = HtmlDiff()\n",
    "    \n",
    "    algorithm = result.used_algorithm\n",
    "    clones = result.clones\n",
    "    tables = []\n",
    "    for clone in clones:\n",
    "        code1 = clone.entity_1.object_data.content.splitlines()\n",
    "        code2 = clone.entity_2.object_data.content.splitlines()\n",
    "        src1 = clone.entity_1.file_path\n",
    "        src2 = clone.entity_2.file_path\n",
    "        score = clone.similarity\n",
    "        table = differ.make_table(code1, code2, fromdesc=f\"{src1}, similarity: {score}\", todesc=src2, context=True)\n",
    "        tables.append(table)\n",
    "        tables.append(\"<br>\")\n",
    "    style = \"\"\"\n",
    "    <head>\n",
    "    <meta http-equiv=\"Content-Type\"\n",
    "          content=\"text/html; charset=ISO-8859-1\" />\n",
    "    <title></title>\n",
    "    <style type=\"text/css\">\n",
    "        table.diff {font-family:Courier; border:medium;}\n",
    "        .diff_header {background-color:#e0e0e0}\n",
    "        td.diff_header {text-align:right}\n",
    "        .diff_next {background-color:#c0c0c0}\n",
    "        .diff_add {background-color:#aaffaa}\n",
    "        .diff_chg {background-color:#ffff77}\n",
    "        .diff_sub {background-color:#ffaaaa}\n",
    "    </style>\n",
    "    </head>\n",
    "    \"\"\"\n",
    "    return f\"<html><body> {style} {''.join(tables)} </body></html>\"\n",
    "\n",
    "\n",
    "def write_formatted_detection_results(result: DetectionResult, out: str) -> None:\n",
    "    html = get_formatted_detection_result(result)\n",
    "    with open(out, \"w\") as f:\n",
    "        f.write(html)"
   ]
  },
  {
   "cell_type": "code",
   "execution_count": 68,
   "id": "d896ef82",
   "metadata": {
    "scrolled": true
   },
   "outputs": [],
   "source": [
    "write_formatted_detection_results(results, \"output.html\")"
   ]
  },
  {
   "cell_type": "code",
   "execution_count": 64,
   "id": "57a4988f",
   "metadata": {},
   "outputs": [
    {
     "name": "stdout",
     "output_type": "stream",
     "text": [
      "<html><body> \n",
      "    <head>\n",
      "    <meta http-equiv=\"Content-Type\"\n",
      "          content=\"text/html; charset=ISO-8859-1\" />\n",
      "    <title></title>\n",
      "    <style type=\"text/css\">\n",
      "        table.diff {font-family:Courier; border:medium;}\n",
      "        .diff_header {background-color:#e0e0e0}\n",
      "        td.diff_header {text-align:right}\n",
      "        .diff_next {background-color:#c0c0c0}\n",
      "        .diff_add {background-color:#aaffaa}\n",
      "        .diff_chg {background-color:#ffff77}\n",
      "        .diff_sub {background-color:#ffaaaa}\n",
      "    </style>\n",
      "    </head>\n",
      "     \n",
      "    <table class=\"diff\" id=\"difflib_chg_to50__top\"\n",
      "           cellspacing=\"0\" cellpadding=\"0\" rules=\"groups\" >\n",
      "        <colgroup></colgroup> <colgroup></colgroup> <colgroup></colgroup>\n",
      "        <colgroup></colgroup> <colgroup></colgroup> <colgroup></colgroup>\n",
      "        <thead><tr><th class=\"diff_next\"><br /></th><th colspan=\"2\" class=\"diff_header\">/mnt/c/Users/Yuriy Rogachev/PycharmProjects/code duplication detection/duplication/tokenizer/buckwheat/tokenizer.py, similarity: 0.9411764705882353</th><th class=\"diff_next\"><br /></th><th colspan=\"2\" class=\"diff_header\">/mnt/c/Users/Yuriy Rogachev/PycharmProjects/code duplication detection/duplication/tokenizer/buckwheat/tokenizer.py</th></tr></thead>\n",
      "        <tbody>\n",
      "            <tr><td class=\"diff_next\" id=\"difflib_chg_to50__1\"><a href=\"#difflib_chg_to50__1\">n</a></td><td class=\"diff_header\" id=\"from50_1\">1</td><td nowrap=\"nowrap\">def&nbsp;get_<span class=\"diff_sub\">fun</span>c<span class=\"diff_chg\">tion</span>s_from_file(file:&nbsp;str,&nbsp;lang:&nbsp;str,&nbsp;identifiers_verbose:&nbsp;bool&nbsp;=&nbsp;False,</td><td class=\"diff_next\"><a href=\"#difflib_chg_to50__1\">n</a></td><td class=\"diff_header\" id=\"to50_1\">1</td><td nowrap=\"nowrap\">def&nbsp;get_c<span class=\"diff_chg\">lasse</span>s_from_file(file:&nbsp;str,&nbsp;lang:&nbsp;str,&nbsp;identifiers_verbose:&nbsp;bool&nbsp;=&nbsp;False,</td></tr>\n",
      "            <tr><td class=\"diff_next\"></td><td class=\"diff_header\" id=\"from50_2\">2</td><td nowrap=\"nowrap\"><span class=\"diff_sub\">&nbsp;&nbsp;</span>&nbsp;&nbsp;&nbsp;&nbsp;&nbsp;&nbsp;&nbsp;&nbsp;&nbsp;&nbsp;&nbsp;&nbsp;&nbsp;&nbsp;&nbsp;&nbsp;&nbsp;&nbsp;&nbsp;&nbsp;&nbsp;&nbsp;&nbsp;&nbsp;&nbsp;&nbsp;subtokenize:&nbsp;bool&nbsp;=&nbsp;False)&nbsp;-&gt;&nbsp;List[ObjectData]:</td><td class=\"diff_next\"></td><td class=\"diff_header\" id=\"to50_2\">2</td><td nowrap=\"nowrap\">&nbsp;&nbsp;&nbsp;&nbsp;&nbsp;&nbsp;&nbsp;&nbsp;&nbsp;&nbsp;&nbsp;&nbsp;&nbsp;&nbsp;&nbsp;&nbsp;&nbsp;&nbsp;&nbsp;&nbsp;&nbsp;&nbsp;&nbsp;&nbsp;&nbsp;&nbsp;subtokenize:&nbsp;bool&nbsp;=&nbsp;False)&nbsp;-&gt;&nbsp;List[ObjectData]:</td></tr>\n",
      "            <tr><td class=\"diff_next\"></td><td class=\"diff_header\" id=\"from50_3\">3</td><td nowrap=\"nowrap\">&nbsp;&nbsp;&nbsp;&nbsp;\"\"\"</td><td class=\"diff_next\"></td><td class=\"diff_header\" id=\"to50_3\">3</td><td nowrap=\"nowrap\">&nbsp;&nbsp;&nbsp;&nbsp;\"\"\"</td></tr>\n",
      "            <tr><td class=\"diff_next\"><a href=\"#difflib_chg_to50__2\">n</a></td><td class=\"diff_header\" id=\"from50_4\">4</td><td nowrap=\"nowrap\">&nbsp;&nbsp;&nbsp;&nbsp;Yield&nbsp;ObjectData&nbsp;objects&nbsp;for&nbsp;<span class=\"diff_sub\">fun</span>c<span class=\"diff_chg\">tion</span>s&nbsp;in&nbsp;a&nbsp;given&nbsp;file.</td><td class=\"diff_next\"><a href=\"#difflib_chg_to50__2\">n</a></td><td class=\"diff_header\" id=\"to50_4\">4</td><td nowrap=\"nowrap\">&nbsp;&nbsp;&nbsp;&nbsp;Yield&nbsp;ObjectData&nbsp;objects&nbsp;for&nbsp;c<span class=\"diff_chg\">la</span>s<span class=\"diff_add\">ses</span>&nbsp;in&nbsp;a&nbsp;given&nbsp;file.</td></tr>\n",
      "            <tr><td class=\"diff_next\" id=\"difflib_chg_to50__2\"></td><td class=\"diff_header\" id=\"from50_5\">5</td><td nowrap=\"nowrap\">&nbsp;&nbsp;&nbsp;&nbsp;:param&nbsp;file:&nbsp;the&nbsp;path&nbsp;to&nbsp;file.</td><td class=\"diff_next\"></td><td class=\"diff_header\" id=\"to50_5\">5</td><td nowrap=\"nowrap\">&nbsp;&nbsp;&nbsp;&nbsp;:param&nbsp;file:&nbsp;the&nbsp;path&nbsp;to&nbsp;file.</td></tr>\n",
      "            <tr><td class=\"diff_next\"></td><td class=\"diff_header\" id=\"from50_6\">6</td><td nowrap=\"nowrap\">&nbsp;&nbsp;&nbsp;&nbsp;:param&nbsp;lang:&nbsp;the&nbsp;language&nbsp;of&nbsp;the&nbsp;file.</td><td class=\"diff_next\"></td><td class=\"diff_header\" id=\"to50_6\">6</td><td nowrap=\"nowrap\">&nbsp;&nbsp;&nbsp;&nbsp;:param&nbsp;lang:&nbsp;the&nbsp;language&nbsp;of&nbsp;the&nbsp;file.</td></tr>\n",
      "            <tr><td class=\"diff_next\" id=\"difflib_chg_to50__3\"></td><td class=\"diff_header\" id=\"from50_7\">7</td><td nowrap=\"nowrap\">&nbsp;&nbsp;&nbsp;&nbsp;:param&nbsp;identifiers_verbose:&nbsp;if&nbsp;True,&nbsp;will&nbsp;save&nbsp;not&nbsp;only&nbsp;identifiers&nbsp;themselves,</td><td class=\"diff_next\"></td><td class=\"diff_header\" id=\"to50_7\">7</td><td nowrap=\"nowrap\">&nbsp;&nbsp;&nbsp;&nbsp;:param&nbsp;identifiers_verbose:&nbsp;if&nbsp;True,&nbsp;will&nbsp;save&nbsp;not&nbsp;only&nbsp;identifiers&nbsp;themselves,</td></tr>\n",
      "            <tr><td class=\"diff_next\"></td><td class=\"diff_header\" id=\"from50_8\">8</td><td nowrap=\"nowrap\">&nbsp;&nbsp;&nbsp;&nbsp;&nbsp;&nbsp;&nbsp;&nbsp;&nbsp;&nbsp;&nbsp;&nbsp;&nbsp;&nbsp;&nbsp;&nbsp;&nbsp;&nbsp;&nbsp;&nbsp;&nbsp;&nbsp;&nbsp;&nbsp;&nbsp;&nbsp;&nbsp;&nbsp;&nbsp;&nbsp;&nbsp;&nbsp;but&nbsp;also&nbsp;their&nbsp;parameters&nbsp;as&nbsp;IdentifierData.</td><td class=\"diff_next\"></td><td class=\"diff_header\" id=\"to50_8\">8</td><td nowrap=\"nowrap\">&nbsp;&nbsp;&nbsp;&nbsp;&nbsp;&nbsp;&nbsp;&nbsp;&nbsp;&nbsp;&nbsp;&nbsp;&nbsp;&nbsp;&nbsp;&nbsp;&nbsp;&nbsp;&nbsp;&nbsp;&nbsp;&nbsp;&nbsp;&nbsp;&nbsp;&nbsp;&nbsp;&nbsp;&nbsp;&nbsp;&nbsp;&nbsp;but&nbsp;also&nbsp;their&nbsp;parameters&nbsp;as&nbsp;IdentifierData.</td></tr>\n",
      "            <tr><td class=\"diff_next\"></td><td class=\"diff_header\" id=\"from50_9\">9</td><td nowrap=\"nowrap\">&nbsp;&nbsp;&nbsp;&nbsp;:param&nbsp;subtokenize:&nbsp;if&nbsp;True,&nbsp;will&nbsp;split&nbsp;the&nbsp;tokens&nbsp;into&nbsp;subtokens.</td><td class=\"diff_next\"></td><td class=\"diff_header\" id=\"to50_9\">9</td><td nowrap=\"nowrap\">&nbsp;&nbsp;&nbsp;&nbsp;:param&nbsp;subtokenize:&nbsp;if&nbsp;True,&nbsp;will&nbsp;split&nbsp;the&nbsp;tokens&nbsp;into&nbsp;subtokens.</td></tr>\n",
      "            <tr><td class=\"diff_next\"><a href=\"#difflib_chg_to50__3\">n</a></td><td class=\"diff_header\" id=\"from50_10\">10</td><td nowrap=\"nowrap\">&nbsp;&nbsp;&nbsp;&nbsp;:return:&nbsp;an&nbsp;iterator&nbsp;of&nbsp;ObjectData&nbsp;objects&nbsp;for&nbsp;<span class=\"diff_sub\">fun</span>c<span class=\"diff_chg\">tion</span>s.</td><td class=\"diff_next\"><a href=\"#difflib_chg_to50__3\">n</a></td><td class=\"diff_header\" id=\"to50_10\">10</td><td nowrap=\"nowrap\">&nbsp;&nbsp;&nbsp;&nbsp;:return:&nbsp;an&nbsp;iterator&nbsp;of&nbsp;ObjectData&nbsp;objects&nbsp;for&nbsp;c<span class=\"diff_chg\">lasse</span>s.</td></tr>\n",
      "            <tr><td class=\"diff_next\"></td><td class=\"diff_header\" id=\"from50_11\">11</td><td nowrap=\"nowrap\">&nbsp;&nbsp;&nbsp;&nbsp;\"\"\"</td><td class=\"diff_next\"></td><td class=\"diff_header\" id=\"to50_11\">11</td><td nowrap=\"nowrap\">&nbsp;&nbsp;&nbsp;&nbsp;\"\"\"</td></tr>\n",
      "            <tr><td class=\"diff_next\"><a href=\"#difflib_chg_to50__4\">n</a></td><td class=\"diff_header\" id=\"from50_12\">12</td><td nowrap=\"nowrap\">&nbsp;&nbsp;&nbsp;&nbsp;if&nbsp;lang&nbsp;not&nbsp;in&nbsp;SUPPORTED_LANGUAGES[\"<span class=\"diff_sub\">fun</span>c<span class=\"diff_chg\">tion</span>s\"]:</td><td class=\"diff_next\"><a href=\"#difflib_chg_to50__4\">n</a></td><td class=\"diff_header\" id=\"to50_12\">12</td><td nowrap=\"nowrap\">&nbsp;&nbsp;&nbsp;&nbsp;if&nbsp;lang&nbsp;not&nbsp;in&nbsp;SUPPORTED_LANGUAGES[\"c<span class=\"diff_chg\">lasse</span>s\"]:</td></tr>\n",
      "            <tr><td class=\"diff_next\"></td><td class=\"diff_header\" id=\"from50_13\">13</td><td nowrap=\"nowrap\">&nbsp;&nbsp;&nbsp;&nbsp;&nbsp;&nbsp;&nbsp;&nbsp;raise&nbsp;ValueError(f\"{lang}&nbsp;doesn't&nbsp;support&nbsp;gathering&nbsp;functions!\")</td><td class=\"diff_next\"></td><td class=\"diff_header\" id=\"to50_13\">13</td><td nowrap=\"nowrap\">&nbsp;&nbsp;&nbsp;&nbsp;&nbsp;&nbsp;&nbsp;&nbsp;raise&nbsp;ValueError(f\"{lang}&nbsp;doesn't&nbsp;support&nbsp;gathering&nbsp;functions!\")</td></tr>\n",
      "            <tr><td class=\"diff_next\" id=\"difflib_chg_to50__4\"></td><td class=\"diff_header\" id=\"from50_14\">14</td><td nowrap=\"nowrap\">&nbsp;&nbsp;&nbsp;&nbsp;file_data&nbsp;=&nbsp;TreeSitterParser.get_data_from_file(file,&nbsp;lang,&nbsp;gather_objects=True,</td><td class=\"diff_next\"></td><td class=\"diff_header\" id=\"to50_14\">14</td><td nowrap=\"nowrap\">&nbsp;&nbsp;&nbsp;&nbsp;file_data&nbsp;=&nbsp;TreeSitterParser.get_data_from_file(file,&nbsp;lang,&nbsp;gather_objects=True,</td></tr>\n",
      "            <tr><td class=\"diff_next\"></td><td class=\"diff_header\" id=\"from50_15\">15</td><td nowrap=\"nowrap\">&nbsp;&nbsp;&nbsp;&nbsp;&nbsp;&nbsp;&nbsp;&nbsp;&nbsp;&nbsp;&nbsp;&nbsp;&nbsp;&nbsp;&nbsp;&nbsp;&nbsp;&nbsp;&nbsp;&nbsp;&nbsp;&nbsp;&nbsp;&nbsp;&nbsp;&nbsp;&nbsp;&nbsp;&nbsp;&nbsp;&nbsp;&nbsp;&nbsp;&nbsp;&nbsp;&nbsp;&nbsp;&nbsp;&nbsp;&nbsp;&nbsp;&nbsp;&nbsp;&nbsp;&nbsp;&nbsp;&nbsp;&nbsp;&nbsp;&nbsp;&nbsp;&nbsp;gather_identifiers=False,</td><td class=\"diff_next\"></td><td class=\"diff_header\" id=\"to50_15\">15</td><td nowrap=\"nowrap\">&nbsp;&nbsp;&nbsp;&nbsp;&nbsp;&nbsp;&nbsp;&nbsp;&nbsp;&nbsp;&nbsp;&nbsp;&nbsp;&nbsp;&nbsp;&nbsp;&nbsp;&nbsp;&nbsp;&nbsp;&nbsp;&nbsp;&nbsp;&nbsp;&nbsp;&nbsp;&nbsp;&nbsp;&nbsp;&nbsp;&nbsp;&nbsp;&nbsp;&nbsp;&nbsp;&nbsp;&nbsp;&nbsp;&nbsp;&nbsp;&nbsp;&nbsp;&nbsp;&nbsp;&nbsp;&nbsp;&nbsp;&nbsp;&nbsp;&nbsp;&nbsp;&nbsp;gather_identifiers=False,</td></tr>\n",
      "            <tr><td class=\"diff_next\"></td><td class=\"diff_header\" id=\"from50_16\">16</td><td nowrap=\"nowrap\">&nbsp;&nbsp;&nbsp;&nbsp;&nbsp;&nbsp;&nbsp;&nbsp;&nbsp;&nbsp;&nbsp;&nbsp;&nbsp;&nbsp;&nbsp;&nbsp;&nbsp;&nbsp;&nbsp;&nbsp;&nbsp;&nbsp;&nbsp;&nbsp;&nbsp;&nbsp;&nbsp;&nbsp;&nbsp;&nbsp;&nbsp;&nbsp;&nbsp;&nbsp;&nbsp;&nbsp;&nbsp;&nbsp;&nbsp;&nbsp;&nbsp;&nbsp;&nbsp;&nbsp;&nbsp;&nbsp;&nbsp;&nbsp;&nbsp;&nbsp;&nbsp;&nbsp;identifiers_verbose=identifiers_verbose,</td><td class=\"diff_next\"></td><td class=\"diff_header\" id=\"to50_16\">16</td><td nowrap=\"nowrap\">&nbsp;&nbsp;&nbsp;&nbsp;&nbsp;&nbsp;&nbsp;&nbsp;&nbsp;&nbsp;&nbsp;&nbsp;&nbsp;&nbsp;&nbsp;&nbsp;&nbsp;&nbsp;&nbsp;&nbsp;&nbsp;&nbsp;&nbsp;&nbsp;&nbsp;&nbsp;&nbsp;&nbsp;&nbsp;&nbsp;&nbsp;&nbsp;&nbsp;&nbsp;&nbsp;&nbsp;&nbsp;&nbsp;&nbsp;&nbsp;&nbsp;&nbsp;&nbsp;&nbsp;&nbsp;&nbsp;&nbsp;&nbsp;&nbsp;&nbsp;&nbsp;&nbsp;identifiers_verbose=identifiers_verbose,</td></tr>\n",
      "            <tr><td class=\"diff_next\"></td><td class=\"diff_header\" id=\"from50_17\">17</td><td nowrap=\"nowrap\">&nbsp;&nbsp;&nbsp;&nbsp;&nbsp;&nbsp;&nbsp;&nbsp;&nbsp;&nbsp;&nbsp;&nbsp;&nbsp;&nbsp;&nbsp;&nbsp;&nbsp;&nbsp;&nbsp;&nbsp;&nbsp;&nbsp;&nbsp;&nbsp;&nbsp;&nbsp;&nbsp;&nbsp;&nbsp;&nbsp;&nbsp;&nbsp;&nbsp;&nbsp;&nbsp;&nbsp;&nbsp;&nbsp;&nbsp;&nbsp;&nbsp;&nbsp;&nbsp;&nbsp;&nbsp;&nbsp;&nbsp;&nbsp;&nbsp;&nbsp;&nbsp;&nbsp;subtokenize=subtokenize)</td><td class=\"diff_next\"></td><td class=\"diff_header\" id=\"to50_17\">17</td><td nowrap=\"nowrap\">&nbsp;&nbsp;&nbsp;&nbsp;&nbsp;&nbsp;&nbsp;&nbsp;&nbsp;&nbsp;&nbsp;&nbsp;&nbsp;&nbsp;&nbsp;&nbsp;&nbsp;&nbsp;&nbsp;&nbsp;&nbsp;&nbsp;&nbsp;&nbsp;&nbsp;&nbsp;&nbsp;&nbsp;&nbsp;&nbsp;&nbsp;&nbsp;&nbsp;&nbsp;&nbsp;&nbsp;&nbsp;&nbsp;&nbsp;&nbsp;&nbsp;&nbsp;&nbsp;&nbsp;&nbsp;&nbsp;&nbsp;&nbsp;&nbsp;&nbsp;&nbsp;&nbsp;subtokenize=subtokenize)</td></tr>\n",
      "            <tr><td class=\"diff_next\"></td><td class=\"diff_header\" id=\"from50_18\">18</td><td nowrap=\"nowrap\">&nbsp;&nbsp;&nbsp;&nbsp;for&nbsp;obj&nbsp;in&nbsp;file_data.objects:</td><td class=\"diff_next\"></td><td class=\"diff_header\" id=\"to50_18\">18</td><td nowrap=\"nowrap\">&nbsp;&nbsp;&nbsp;&nbsp;for&nbsp;obj&nbsp;in&nbsp;file_data.objects:</td></tr>\n",
      "            <tr><td class=\"diff_next\"><a href=\"#difflib_chg_to50__top\">t</a></td><td class=\"diff_header\" id=\"from50_19\">19</td><td nowrap=\"nowrap\">&nbsp;&nbsp;&nbsp;&nbsp;&nbsp;&nbsp;&nbsp;&nbsp;if&nbsp;obj.object_type&nbsp;==&nbsp;ObjectTypes.<span class=\"diff_sub\">FUN</span>C<span class=\"diff_chg\">TION</span>:</td><td class=\"diff_next\"><a href=\"#difflib_chg_to50__top\">t</a></td><td class=\"diff_header\" id=\"to50_19\">19</td><td nowrap=\"nowrap\">&nbsp;&nbsp;&nbsp;&nbsp;&nbsp;&nbsp;&nbsp;&nbsp;if&nbsp;obj.object_type&nbsp;==&nbsp;ObjectTypes.C<span class=\"diff_chg\">LASS</span>:</td></tr>\n",
      "            <tr><td class=\"diff_next\"></td><td class=\"diff_header\" id=\"from50_20\">20</td><td nowrap=\"nowrap\">&nbsp;&nbsp;&nbsp;&nbsp;&nbsp;&nbsp;&nbsp;&nbsp;&nbsp;&nbsp;&nbsp;&nbsp;yield&nbsp;obj</td><td class=\"diff_next\"></td><td class=\"diff_header\" id=\"to50_20\">20</td><td nowrap=\"nowrap\">&nbsp;&nbsp;&nbsp;&nbsp;&nbsp;&nbsp;&nbsp;&nbsp;&nbsp;&nbsp;&nbsp;&nbsp;yield&nbsp;obj</td></tr>\n",
      "        </tbody>\n",
      "    </table><br>\n",
      "    <table class=\"diff\" id=\"difflib_chg_to51__top\"\n",
      "           cellspacing=\"0\" cellpadding=\"0\" rules=\"groups\" >\n",
      "        <colgroup></colgroup> <colgroup></colgroup> <colgroup></colgroup>\n",
      "        <colgroup></colgroup> <colgroup></colgroup> <colgroup></colgroup>\n",
      "        <thead><tr><th class=\"diff_next\"><br /></th><th colspan=\"2\" class=\"diff_header\">/mnt/c/Users/Yuriy Rogachev/PycharmProjects/code duplication detection/duplication/tokenizer/buckwheat/language_recognition/utils.py, similarity: 0.9166666666666666</th><th class=\"diff_next\"><br /></th><th colspan=\"2\" class=\"diff_header\">/mnt/c/Users/Yuriy Rogachev/PycharmProjects/code duplication detection/duplication/tokenizer/buckwheat/parsing/utils.py</th></tr></thead>\n",
      "        <tbody>\n",
      "            <tr><td class=\"diff_next\" id=\"difflib_chg_to51__1\"><a href=\"#difflib_chg_to51__1\">n</a></td><td class=\"diff_header\" id=\"from51_1\">1</td><td nowrap=\"nowrap\">def&nbsp;get_e<span class=\"diff_chg\">n</span>r<span class=\"diff_sub\">y</span>_dir()&nbsp;-&gt;&nbsp;str:</td><td class=\"diff_next\"><a href=\"#difflib_chg_to51__1\">n</a></td><td class=\"diff_header\" id=\"to51_1\">1</td><td nowrap=\"nowrap\">def&nbsp;get_<span class=\"diff_add\">tr</span>e<span class=\"diff_chg\">e_sitte</span>r_dir()&nbsp;-&gt;&nbsp;str:</td></tr>\n",
      "            <tr><td class=\"diff_next\"></td><td class=\"diff_header\" id=\"from51_2\">2</td><td nowrap=\"nowrap\">&nbsp;&nbsp;&nbsp;&nbsp;\"\"\"</td><td class=\"diff_next\"></td><td class=\"diff_header\" id=\"to51_2\">2</td><td nowrap=\"nowrap\">&nbsp;&nbsp;&nbsp;&nbsp;\"\"\"</td></tr>\n",
      "            <tr><td class=\"diff_next\"><a href=\"#difflib_chg_to51__top\">t</a></td><td class=\"diff_header\" id=\"from51_3\">3</td><td nowrap=\"nowrap\"><span class=\"diff_sub\">&nbsp;&nbsp;&nbsp;&nbsp;Get&nbsp;the&nbsp;directory&nbsp;with&nbsp;Enry.</span></td><td class=\"diff_next\"><a href=\"#difflib_chg_to51__top\">t</a></td><td class=\"diff_header\" id=\"to51_3\">3</td><td nowrap=\"nowrap\"><span class=\"diff_add\">&nbsp;&nbsp;&nbsp;&nbsp;Get&nbsp;tree-sitter&nbsp;directory.</span></td></tr>\n",
      "            <tr><td class=\"diff_next\"></td><td class=\"diff_header\" id=\"from51_4\">4</td><td nowrap=\"nowrap\">&nbsp;&nbsp;&nbsp;&nbsp;:return:&nbsp;absolute&nbsp;path.</td><td class=\"diff_next\"></td><td class=\"diff_header\" id=\"to51_4\">4</td><td nowrap=\"nowrap\">&nbsp;&nbsp;&nbsp;&nbsp;:return:&nbsp;absolute&nbsp;path.</td></tr>\n",
      "            <tr><td class=\"diff_next\"></td><td class=\"diff_header\" id=\"from51_5\">5</td><td nowrap=\"nowrap\">&nbsp;&nbsp;&nbsp;&nbsp;\"\"\"</td><td class=\"diff_next\"></td><td class=\"diff_header\" id=\"to51_5\">5</td><td nowrap=\"nowrap\">&nbsp;&nbsp;&nbsp;&nbsp;\"\"\"</td></tr>\n",
      "            <tr><td class=\"diff_next\"></td><td class=\"diff_header\" id=\"from51_6\">6</td><td nowrap=\"nowrap\">&nbsp;&nbsp;&nbsp;&nbsp;return&nbsp;os.path.abspath(os.path.join(os.path.dirname(__file__),&nbsp;\"build\"))</td><td class=\"diff_next\"></td><td class=\"diff_header\" id=\"to51_6\">6</td><td nowrap=\"nowrap\">&nbsp;&nbsp;&nbsp;&nbsp;return&nbsp;os.path.abspath(os.path.join(os.path.dirname(__file__),&nbsp;\"build\"))</td></tr>\n",
      "        </tbody>\n",
      "    </table><br>\n",
      "    <table class=\"diff\" id=\"difflib_chg_to52__top\"\n",
      "           cellspacing=\"0\" cellpadding=\"0\" rules=\"groups\" >\n",
      "        <colgroup></colgroup> <colgroup></colgroup> <colgroup></colgroup>\n",
      "        <colgroup></colgroup> <colgroup></colgroup> <colgroup></colgroup>\n",
      "        <thead><tr><th class=\"diff_next\"><br /></th><th colspan=\"2\" class=\"diff_header\">/mnt/c/Users/Yuriy Rogachev/PycharmProjects/code duplication detection/duplication/tokenizer/buckwheat/subtokenizer.py, similarity: 0.8666666666666667</th><th class=\"diff_next\"><br /></th><th colspan=\"2\" class=\"diff_header\">/mnt/c/Users/Yuriy Rogachev/PycharmProjects/code duplication detection/duplication/tokenizer/buckwheat/subtokenizer.py</th></tr></thead>\n",
      "        <tbody>\n",
      "            <tr><td class=\"diff_next\" id=\"difflib_chg_to52__2\"><a href=\"#difflib_chg_to52__1\">n</a></td><td class=\"diff_header\" id=\"from52_1\">1</td><td nowrap=\"nowrap\"><span class=\"diff_sub\">def&nbsp;stem_threshold(self,&nbsp;value):</span></td><td class=\"diff_next\"><a href=\"#difflib_chg_to52__1\">n</a></td><td class=\"diff_header\" id=\"to52_1\">1</td><td nowrap=\"nowrap\"><span class=\"diff_add\">def&nbsp;max_token_length(self,&nbsp;value):</span></td></tr>\n",
      "            <tr><td class=\"diff_next\"></td><td class=\"diff_header\" id=\"from52_2\">2</td><td nowrap=\"nowrap\">&nbsp;&nbsp;&nbsp;&nbsp;&nbsp;&nbsp;&nbsp;&nbsp;if&nbsp;not&nbsp;isinstance(value,&nbsp;int):</td><td class=\"diff_next\"></td><td class=\"diff_header\" id=\"to52_2\">2</td><td nowrap=\"nowrap\">&nbsp;&nbsp;&nbsp;&nbsp;&nbsp;&nbsp;&nbsp;&nbsp;if&nbsp;not&nbsp;isinstance(value,&nbsp;int):</td></tr>\n",
      "            <tr><td class=\"diff_next\"><a href=\"#difflib_chg_to52__2\">n</a></td><td class=\"diff_header\" id=\"from52_3\">3</td><td nowrap=\"nowrap\">&nbsp;&nbsp;&nbsp;&nbsp;&nbsp;&nbsp;&nbsp;&nbsp;&nbsp;&nbsp;&nbsp;&nbsp;raise&nbsp;TypeError(\"<span class=\"diff_sub\">ste</span>m_th<span class=\"diff_sub\">reshold</span>&nbsp;must&nbsp;be&nbsp;an&nbsp;integer&nbsp;-&nbsp;got&nbsp;%s\"&nbsp;%&nbsp;type(value))</td><td class=\"diff_next\"><a href=\"#difflib_chg_to52__2\">n</a></td><td class=\"diff_header\" id=\"to52_3\">3</td><td nowrap=\"nowrap\">&nbsp;&nbsp;&nbsp;&nbsp;&nbsp;&nbsp;&nbsp;&nbsp;&nbsp;&nbsp;&nbsp;&nbsp;raise&nbsp;TypeError(\"m<span class=\"diff_add\">ax</span>_t<span class=\"diff_add\">oken_lengt</span>h&nbsp;must&nbsp;be&nbsp;an&nbsp;integer&nbsp;-&nbsp;got&nbsp;%s\"&nbsp;%&nbsp;type(value))</td></tr>\n",
      "            <tr><td class=\"diff_next\"></td><td class=\"diff_header\" id=\"from52_4\">4</td><td nowrap=\"nowrap\">&nbsp;&nbsp;&nbsp;&nbsp;&nbsp;&nbsp;&nbsp;&nbsp;if&nbsp;value&nbsp;&lt;&nbsp;1:</td><td class=\"diff_next\"></td><td class=\"diff_header\" id=\"to52_4\">4</td><td nowrap=\"nowrap\">&nbsp;&nbsp;&nbsp;&nbsp;&nbsp;&nbsp;&nbsp;&nbsp;if&nbsp;value&nbsp;&lt;&nbsp;1:</td></tr>\n",
      "            <tr><td class=\"diff_next\"><a href=\"#difflib_chg_to52__top\">t</a></td><td class=\"diff_header\" id=\"from52_5\">5</td><td nowrap=\"nowrap\">&nbsp;&nbsp;&nbsp;&nbsp;&nbsp;&nbsp;&nbsp;&nbsp;&nbsp;&nbsp;&nbsp;&nbsp;raise&nbsp;ValueError(\"<span class=\"diff_sub\">ste</span>m_th<span class=\"diff_sub\">reshold</span>&nbsp;must&nbsp;be&nbsp;greater&nbsp;than&nbsp;0&nbsp;-&nbsp;got&nbsp;%d\"&nbsp;%&nbsp;value)</td><td class=\"diff_next\"><a href=\"#difflib_chg_to52__top\">t</a></td><td class=\"diff_header\" id=\"to52_5\">5</td><td nowrap=\"nowrap\">&nbsp;&nbsp;&nbsp;&nbsp;&nbsp;&nbsp;&nbsp;&nbsp;&nbsp;&nbsp;&nbsp;&nbsp;raise&nbsp;ValueError(\"m<span class=\"diff_add\">ax</span>_t<span class=\"diff_add\">oken_lengt</span>h&nbsp;must&nbsp;be&nbsp;greater&nbsp;than&nbsp;0&nbsp;-&nbsp;got&nbsp;%d\"&nbsp;%&nbsp;value)</td></tr>\n",
      "            <tr><td class=\"diff_next\"></td><td class=\"diff_header\" id=\"from52_6\">6</td><td nowrap=\"nowrap\"><span class=\"diff_sub\">&nbsp;&nbsp;&nbsp;&nbsp;&nbsp;&nbsp;&nbsp;&nbsp;self._stem_threshold&nbsp;=&nbsp;value</span></td><td class=\"diff_next\"></td><td class=\"diff_header\" id=\"to52_6\">6</td><td nowrap=\"nowrap\"><span class=\"diff_add\">&nbsp;&nbsp;&nbsp;&nbsp;&nbsp;&nbsp;&nbsp;&nbsp;self._max_token_length&nbsp;=&nbsp;value</span></td></tr>\n",
      "        </tbody>\n",
      "    </table><br>\n",
      "    <table class=\"diff\" id=\"difflib_chg_to53__top\"\n",
      "           cellspacing=\"0\" cellpadding=\"0\" rules=\"groups\" >\n",
      "        <colgroup></colgroup> <colgroup></colgroup> <colgroup></colgroup>\n",
      "        <colgroup></colgroup> <colgroup></colgroup> <colgroup></colgroup>\n",
      "        <thead><tr><th class=\"diff_next\"><br /></th><th colspan=\"2\" class=\"diff_header\">/mnt/c/Users/Yuriy Rogachev/PycharmProjects/code duplication detection/duplication/tokenizer/buckwheat/subtokenizer.py, similarity: 0.8666666666666667</th><th class=\"diff_next\"><br /></th><th colspan=\"2\" class=\"diff_header\">/mnt/c/Users/Yuriy Rogachev/PycharmProjects/code duplication detection/duplication/tokenizer/buckwheat/subtokenizer.py</th></tr></thead>\n",
      "        <tbody>\n",
      "            <tr><td class=\"diff_next\" id=\"difflib_chg_to53__2\"><a href=\"#difflib_chg_to53__1\">n</a></td><td class=\"diff_header\" id=\"from53_1\">1</td><td nowrap=\"nowrap\"><span class=\"diff_sub\">def&nbsp;stem_threshold(self,&nbsp;value):</span></td><td class=\"diff_next\"><a href=\"#difflib_chg_to53__1\">n</a></td><td class=\"diff_header\" id=\"to53_1\">1</td><td nowrap=\"nowrap\"><span class=\"diff_add\">def&nbsp;min_split_length(self,&nbsp;value):</span></td></tr>\n",
      "            <tr><td class=\"diff_next\"></td><td class=\"diff_header\" id=\"from53_2\">2</td><td nowrap=\"nowrap\">&nbsp;&nbsp;&nbsp;&nbsp;&nbsp;&nbsp;&nbsp;&nbsp;if&nbsp;not&nbsp;isinstance(value,&nbsp;int):</td><td class=\"diff_next\"></td><td class=\"diff_header\" id=\"to53_2\">2</td><td nowrap=\"nowrap\">&nbsp;&nbsp;&nbsp;&nbsp;&nbsp;&nbsp;&nbsp;&nbsp;if&nbsp;not&nbsp;isinstance(value,&nbsp;int):</td></tr>\n",
      "            <tr><td class=\"diff_next\"><a href=\"#difflib_chg_to53__2\">n</a></td><td class=\"diff_header\" id=\"from53_3\">3</td><td nowrap=\"nowrap\">&nbsp;&nbsp;&nbsp;&nbsp;&nbsp;&nbsp;&nbsp;&nbsp;&nbsp;&nbsp;&nbsp;&nbsp;raise&nbsp;TypeError(\"ste<span class=\"diff_chg\">m_</span>th<span class=\"diff_sub\">reshold</span>&nbsp;must&nbsp;be&nbsp;an&nbsp;integer&nbsp;-&nbsp;got&nbsp;%s\"&nbsp;%&nbsp;type(value))</td><td class=\"diff_next\"><a href=\"#difflib_chg_to53__2\">n</a></td><td class=\"diff_header\" id=\"to53_3\">3</td><td nowrap=\"nowrap\">&nbsp;&nbsp;&nbsp;&nbsp;&nbsp;&nbsp;&nbsp;&nbsp;&nbsp;&nbsp;&nbsp;&nbsp;raise&nbsp;TypeError(\"<span class=\"diff_add\">min_</span>s<span class=\"diff_add\">pli</span>t<span class=\"diff_add\">_l</span>e<span class=\"diff_chg\">ng</span>th&nbsp;must&nbsp;be&nbsp;an&nbsp;integer&nbsp;-&nbsp;got&nbsp;%s\"&nbsp;%&nbsp;type(value))</td></tr>\n",
      "            <tr><td class=\"diff_next\"></td><td class=\"diff_header\" id=\"from53_4\">4</td><td nowrap=\"nowrap\">&nbsp;&nbsp;&nbsp;&nbsp;&nbsp;&nbsp;&nbsp;&nbsp;if&nbsp;value&nbsp;&lt;&nbsp;1:</td><td class=\"diff_next\"></td><td class=\"diff_header\" id=\"to53_4\">4</td><td nowrap=\"nowrap\">&nbsp;&nbsp;&nbsp;&nbsp;&nbsp;&nbsp;&nbsp;&nbsp;if&nbsp;value&nbsp;&lt;&nbsp;1:</td></tr>\n",
      "            <tr><td class=\"diff_next\"><a href=\"#difflib_chg_to53__top\">t</a></td><td class=\"diff_header\" id=\"from53_5\">5</td><td nowrap=\"nowrap\">&nbsp;&nbsp;&nbsp;&nbsp;&nbsp;&nbsp;&nbsp;&nbsp;&nbsp;&nbsp;&nbsp;&nbsp;raise&nbsp;ValueError(\"ste<span class=\"diff_chg\">m_</span>th<span class=\"diff_sub\">reshold</span>&nbsp;must&nbsp;be&nbsp;greater&nbsp;than&nbsp;0&nbsp;-&nbsp;got&nbsp;%d\"&nbsp;%&nbsp;value)</td><td class=\"diff_next\"><a href=\"#difflib_chg_to53__top\">t</a></td><td class=\"diff_header\" id=\"to53_5\">5</td><td nowrap=\"nowrap\">&nbsp;&nbsp;&nbsp;&nbsp;&nbsp;&nbsp;&nbsp;&nbsp;&nbsp;&nbsp;&nbsp;&nbsp;raise&nbsp;ValueError(\"<span class=\"diff_add\">min_</span>s<span class=\"diff_add\">pli</span>t<span class=\"diff_add\">_l</span>e<span class=\"diff_chg\">ng</span>th&nbsp;must&nbsp;be&nbsp;greater&nbsp;than&nbsp;0&nbsp;-&nbsp;got&nbsp;%d\"&nbsp;%&nbsp;value)</td></tr>\n",
      "            <tr><td class=\"diff_next\"></td><td class=\"diff_header\" id=\"from53_6\">6</td><td nowrap=\"nowrap\"><span class=\"diff_sub\">&nbsp;&nbsp;&nbsp;&nbsp;&nbsp;&nbsp;&nbsp;&nbsp;self._stem_threshold&nbsp;=&nbsp;value</span></td><td class=\"diff_next\"></td><td class=\"diff_header\" id=\"to53_6\">6</td><td nowrap=\"nowrap\"><span class=\"diff_add\">&nbsp;&nbsp;&nbsp;&nbsp;&nbsp;&nbsp;&nbsp;&nbsp;self._min_split_length&nbsp;=&nbsp;value</span></td></tr>\n",
      "        </tbody>\n",
      "    </table><br>\n",
      "    <table class=\"diff\" id=\"difflib_chg_to54__top\"\n",
      "           cellspacing=\"0\" cellpadding=\"0\" rules=\"groups\" >\n",
      "        <colgroup></colgroup> <colgroup></colgroup> <colgroup></colgroup>\n",
      "        <colgroup></colgroup> <colgroup></colgroup> <colgroup></colgroup>\n",
      "        <thead><tr><th class=\"diff_next\"><br /></th><th colspan=\"2\" class=\"diff_header\">/mnt/c/Users/Yuriy Rogachev/PycharmProjects/code duplication detection/duplication/tokenizer/buckwheat/subtokenizer.py, similarity: 0.8666666666666667</th><th class=\"diff_next\"><br /></th><th colspan=\"2\" class=\"diff_header\">/mnt/c/Users/Yuriy Rogachev/PycharmProjects/code duplication detection/duplication/tokenizer/buckwheat/subtokenizer.py</th></tr></thead>\n",
      "        <tbody>\n",
      "            <tr><td class=\"diff_next\" id=\"difflib_chg_to54__2\"><a href=\"#difflib_chg_to54__1\">n</a></td><td class=\"diff_header\" id=\"from54_1\">1</td><td nowrap=\"nowrap\">def&nbsp;m<span class=\"diff_chg\">ax</span>_t<span class=\"diff_sub\">oken</span>_length(self,&nbsp;value):</td><td class=\"diff_next\"><a href=\"#difflib_chg_to54__1\">n</a></td><td class=\"diff_header\" id=\"to54_1\">1</td><td nowrap=\"nowrap\">def&nbsp;m<span class=\"diff_chg\">in</span>_<span class=\"diff_add\">spli</span>t_length(self,&nbsp;value):</td></tr>\n",
      "            <tr><td class=\"diff_next\"></td><td class=\"diff_header\" id=\"from54_2\">2</td><td nowrap=\"nowrap\">&nbsp;&nbsp;&nbsp;&nbsp;&nbsp;&nbsp;&nbsp;&nbsp;if&nbsp;not&nbsp;isinstance(value,&nbsp;int):</td><td class=\"diff_next\"></td><td class=\"diff_header\" id=\"to54_2\">2</td><td nowrap=\"nowrap\">&nbsp;&nbsp;&nbsp;&nbsp;&nbsp;&nbsp;&nbsp;&nbsp;if&nbsp;not&nbsp;isinstance(value,&nbsp;int):</td></tr>\n",
      "            <tr><td class=\"diff_next\"><a href=\"#difflib_chg_to54__2\">n</a></td><td class=\"diff_header\" id=\"from54_3\">3</td><td nowrap=\"nowrap\">&nbsp;&nbsp;&nbsp;&nbsp;&nbsp;&nbsp;&nbsp;&nbsp;&nbsp;&nbsp;&nbsp;&nbsp;raise&nbsp;TypeError(\"m<span class=\"diff_chg\">ax</span>_t<span class=\"diff_sub\">oken</span>_length&nbsp;must&nbsp;be&nbsp;an&nbsp;integer&nbsp;-&nbsp;got&nbsp;%s\"&nbsp;%&nbsp;type(value))</td><td class=\"diff_next\"><a href=\"#difflib_chg_to54__2\">n</a></td><td class=\"diff_header\" id=\"to54_3\">3</td><td nowrap=\"nowrap\">&nbsp;&nbsp;&nbsp;&nbsp;&nbsp;&nbsp;&nbsp;&nbsp;&nbsp;&nbsp;&nbsp;&nbsp;raise&nbsp;TypeError(\"m<span class=\"diff_chg\">in</span>_<span class=\"diff_add\">spli</span>t_length&nbsp;must&nbsp;be&nbsp;an&nbsp;integer&nbsp;-&nbsp;got&nbsp;%s\"&nbsp;%&nbsp;type(value))</td></tr>\n",
      "            <tr><td class=\"diff_next\"></td><td class=\"diff_header\" id=\"from54_4\">4</td><td nowrap=\"nowrap\">&nbsp;&nbsp;&nbsp;&nbsp;&nbsp;&nbsp;&nbsp;&nbsp;if&nbsp;value&nbsp;&lt;&nbsp;1:</td><td class=\"diff_next\"></td><td class=\"diff_header\" id=\"to54_4\">4</td><td nowrap=\"nowrap\">&nbsp;&nbsp;&nbsp;&nbsp;&nbsp;&nbsp;&nbsp;&nbsp;if&nbsp;value&nbsp;&lt;&nbsp;1:</td></tr>\n",
      "            <tr><td class=\"diff_next\"><a href=\"#difflib_chg_to54__top\">t</a></td><td class=\"diff_header\" id=\"from54_5\">5</td><td nowrap=\"nowrap\">&nbsp;&nbsp;&nbsp;&nbsp;&nbsp;&nbsp;&nbsp;&nbsp;&nbsp;&nbsp;&nbsp;&nbsp;raise&nbsp;ValueError(\"m<span class=\"diff_chg\">ax</span>_t<span class=\"diff_sub\">oken</span>_length&nbsp;must&nbsp;be&nbsp;greater&nbsp;than&nbsp;0&nbsp;-&nbsp;got&nbsp;%d\"&nbsp;%&nbsp;value)</td><td class=\"diff_next\"><a href=\"#difflib_chg_to54__top\">t</a></td><td class=\"diff_header\" id=\"to54_5\">5</td><td nowrap=\"nowrap\">&nbsp;&nbsp;&nbsp;&nbsp;&nbsp;&nbsp;&nbsp;&nbsp;&nbsp;&nbsp;&nbsp;&nbsp;raise&nbsp;ValueError(\"m<span class=\"diff_chg\">in</span>_<span class=\"diff_add\">spli</span>t_length&nbsp;must&nbsp;be&nbsp;greater&nbsp;than&nbsp;0&nbsp;-&nbsp;got&nbsp;%d\"&nbsp;%&nbsp;value)</td></tr>\n",
      "            <tr><td class=\"diff_next\"></td><td class=\"diff_header\" id=\"from54_6\">6</td><td nowrap=\"nowrap\">&nbsp;&nbsp;&nbsp;&nbsp;&nbsp;&nbsp;&nbsp;&nbsp;self._m<span class=\"diff_chg\">ax</span>_t<span class=\"diff_sub\">oken</span>_length&nbsp;=&nbsp;value</td><td class=\"diff_next\"></td><td class=\"diff_header\" id=\"to54_6\">6</td><td nowrap=\"nowrap\">&nbsp;&nbsp;&nbsp;&nbsp;&nbsp;&nbsp;&nbsp;&nbsp;self._m<span class=\"diff_chg\">in</span>_<span class=\"diff_add\">spli</span>t_length&nbsp;=&nbsp;value</td></tr>\n",
      "        </tbody>\n",
      "    </table><br> </body></html>\n"
     ]
    }
   ],
   "source": [
    "print(html)"
   ]
  },
  {
   "cell_type": "code",
   "execution_count": 65,
   "id": "bcdf097d",
   "metadata": {},
   "outputs": [],
   "source": []
  },
  {
   "cell_type": "code",
   "execution_count": 32,
   "id": "404db191",
   "metadata": {},
   "outputs": [
    {
     "data": {
      "text/plain": [
       "DetectionResult(clones=[CloneData(entity_1=EntityData(object_data=ObjectData(object_type=<ObjectTypes.FUNCTION: 'function'>, content='def get_functions_from_file(file: str, lang: str, identifiers_verbose: bool = False,\\n                            subtokenize: bool = False) -> List[ObjectData]:\\n    \"\"\"\\n    Yield ObjectData objects for functions in a given file.\\n    :param file: the path to file.\\n    :param lang: the language of the file.\\n    :param identifiers_verbose: if True, will save not only identifiers themselves,\\n                                but also their parameters as IdentifierData.\\n    :param subtokenize: if True, will split the tokens into subtokens.\\n    :return: an iterator of ObjectData objects for functions.\\n    \"\"\"\\n    if lang not in SUPPORTED_LANGUAGES[\"functions\"]:\\n        raise ValueError(f\"{lang} doesn\\'t support gathering functions!\")\\n    file_data = TreeSitterParser.get_data_from_file(file, lang, gather_objects=True,\\n                                                    gather_identifiers=False,\\n                                                    identifiers_verbose=identifiers_verbose,\\n                                                    subtokenize=subtokenize)\\n    for obj in file_data.objects:\\n        if obj.object_type == ObjectTypes.FUNCTION:\\n            yield obj', lang='Python', identifiers=['get_functions_from_file', 'file', 'str', 'lang', 'str', 'identifiers_verbose', 'bool', 'subtokenize', 'bool', 'List', 'ObjectData', 'lang', 'SUPPORTED_LANGUAGES', 'ValueError', 'lang', 'file_data', 'TreeSitterParser', 'get_data_from_file', 'file', 'lang', 'gather_objects', 'gather_identifiers', 'identifiers_verbose', 'identifiers_verbose', 'subtokenize', 'subtokenize', 'obj', 'file_data', 'objects', 'obj', 'object_type', 'ObjectTypes', 'FUNCTION', 'obj'], identifiers_type=<IdentifiersTypes.STRING: 'string'>, start_byte=23672, start_line=474, start_column=0, end_byte=24847, end_line=493, end_column=21), bag_of_tokens=['get_functions_from_file', 'file', 'str', 'lang', 'str', 'identifiers_verbose', 'bool', 'subtokenize', 'bool', 'List', 'ObjectData', 'lang', 'SUPPORTED_LANGUAGES', 'ValueError', 'lang', 'file_data', 'TreeSitterParser', 'get_data_from_file', 'file', 'lang', 'gather_objects', 'gather_identifiers', 'identifiers_verbose', 'identifiers_verbose', 'subtokenize', 'subtokenize', 'obj', 'file_data', 'objects', 'obj', 'object_type', 'ObjectTypes', 'FUNCTION', 'obj'], file_path='/mnt/c/Users/Yuriy Rogachev/PycharmProjects/code duplication detection/duplication/tokenizer/buckwheat/tokenizer.py'), entity_2=EntityData(object_data=ObjectData(object_type=<ObjectTypes.FUNCTION: 'function'>, content='def get_classes_from_file(file: str, lang: str, identifiers_verbose: bool = False,\\n                          subtokenize: bool = False) -> List[ObjectData]:\\n    \"\"\"\\n    Yield ObjectData objects for classes in a given file.\\n    :param file: the path to file.\\n    :param lang: the language of the file.\\n    :param identifiers_verbose: if True, will save not only identifiers themselves,\\n                                but also their parameters as IdentifierData.\\n    :param subtokenize: if True, will split the tokens into subtokens.\\n    :return: an iterator of ObjectData objects for classes.\\n    \"\"\"\\n    if lang not in SUPPORTED_LANGUAGES[\"classes\"]:\\n        raise ValueError(f\"{lang} doesn\\'t support gathering functions!\")\\n    file_data = TreeSitterParser.get_data_from_file(file, lang, gather_objects=True,\\n                                                    gather_identifiers=False,\\n                                                    identifiers_verbose=identifiers_verbose,\\n                                                    subtokenize=subtokenize)\\n    for obj in file_data.objects:\\n        if obj.object_type == ObjectTypes.CLASS:\\n            yield obj', lang='Python', identifiers=['get_classes_from_file', 'file', 'str', 'lang', 'str', 'identifiers_verbose', 'bool', 'subtokenize', 'bool', 'List', 'ObjectData', 'lang', 'SUPPORTED_LANGUAGES', 'ValueError', 'lang', 'file_data', 'TreeSitterParser', 'get_data_from_file', 'file', 'lang', 'gather_objects', 'gather_identifiers', 'identifiers_verbose', 'identifiers_verbose', 'subtokenize', 'subtokenize', 'obj', 'file_data', 'objects', 'obj', 'object_type', 'ObjectTypes', 'CLASS', 'obj'], identifiers_type=<IdentifiersTypes.STRING: 'string'>, start_byte=24850, start_line=496, start_column=0, end_byte=26012, end_line=515, end_column=21), bag_of_tokens=['get_classes_from_file', 'file', 'str', 'lang', 'str', 'identifiers_verbose', 'bool', 'subtokenize', 'bool', 'List', 'ObjectData', 'lang', 'SUPPORTED_LANGUAGES', 'ValueError', 'lang', 'file_data', 'TreeSitterParser', 'get_data_from_file', 'file', 'lang', 'gather_objects', 'gather_identifiers', 'identifiers_verbose', 'identifiers_verbose', 'subtokenize', 'subtokenize', 'obj', 'file_data', 'objects', 'obj', 'object_type', 'ObjectTypes', 'CLASS', 'obj'], file_path='/mnt/c/Users/Yuriy Rogachev/PycharmProjects/code duplication detection/duplication/tokenizer/buckwheat/tokenizer.py'), similarity=0.9411764705882353), CloneData(entity_1=EntityData(object_data=ObjectData(object_type=<ObjectTypes.FUNCTION: 'function'>, content='def get_enry_dir() -> str:\\n    \"\"\"\\n    Get the directory with Enry.\\n    :return: absolute path.\\n    \"\"\"\\n    return os.path.abspath(os.path.join(os.path.dirname(__file__), \"build\"))', lang='Python', identifiers=['get_enry_dir', 'str', 'os', 'path', 'abspath', 'os', 'path', 'join', 'os', 'path', 'dirname', '__file__'], identifiers_type=<IdentifiersTypes.STRING: 'string'>, start_byte=771, start_line=35, start_column=0, end_byte=951, end_line=40, end_column=76), bag_of_tokens=['get_enry_dir', 'str', 'os', 'path', 'abspath', 'os', 'path', 'join', 'os', 'path', 'dirname', '__file__'], file_path='/mnt/c/Users/Yuriy Rogachev/PycharmProjects/code duplication detection/duplication/tokenizer/buckwheat/language_recognition/utils.py'), entity_2=EntityData(object_data=ObjectData(object_type=<ObjectTypes.FUNCTION: 'function'>, content='def get_tree_sitter_dir() -> str:\\n    \"\"\"\\n    Get tree-sitter directory.\\n    :return: absolute path.\\n    \"\"\"\\n    return os.path.abspath(os.path.join(os.path.dirname(__file__), \"build\"))', lang='Python', identifiers=['get_tree_sitter_dir', 'str', 'os', 'path', 'abspath', 'os', 'path', 'join', 'os', 'path', 'dirname', '__file__'], identifiers_type=<IdentifiersTypes.STRING: 'string'>, start_byte=504, start_line=27, start_column=0, end_byte=689, end_line=32, end_column=76), bag_of_tokens=['get_tree_sitter_dir', 'str', 'os', 'path', 'abspath', 'os', 'path', 'join', 'os', 'path', 'dirname', '__file__'], file_path='/mnt/c/Users/Yuriy Rogachev/PycharmProjects/code duplication detection/duplication/tokenizer/buckwheat/parsing/utils.py'), similarity=0.9166666666666666), CloneData(entity_1=EntityData(object_data=ObjectData(object_type=<ObjectTypes.FUNCTION: 'function'>, content='def stem_threshold(self, value):\\n        if not isinstance(value, int):\\n            raise TypeError(\"stem_threshold must be an integer - got %s\" % type(value))\\n        if value < 1:\\n            raise ValueError(\"stem_threshold must be greater than 0 - got %d\" % value)\\n        self._stem_threshold = value', lang='Python', identifiers=['stem_threshold', 'self', 'value', 'isinstance', 'value', 'int', 'TypeError', 'type', 'value', 'value', 'ValueError', 'value', 'self', '_stem_threshold', 'value'], identifiers_type=<IdentifiersTypes.STRING: 'string'>, start_byte=3242, start_line=74, start_column=4, end_byte=3547, end_line=79, end_column=36), bag_of_tokens=['stem_threshold', 'self', 'value', 'isinstance', 'value', 'int', 'TypeError', 'type', 'value', 'value', 'ValueError', 'value', 'self', '_stem_threshold', 'value'], file_path='/mnt/c/Users/Yuriy Rogachev/PycharmProjects/code duplication detection/duplication/tokenizer/buckwheat/subtokenizer.py'), entity_2=EntityData(object_data=ObjectData(object_type=<ObjectTypes.FUNCTION: 'function'>, content='def max_token_length(self, value):\\n        if not isinstance(value, int):\\n            raise TypeError(\"max_token_length must be an integer - got %s\" % type(value))\\n        if value < 1:\\n            raise ValueError(\"max_token_length must be greater than 0 - got %d\" % value)\\n        self._max_token_length = value', lang='Python', identifiers=['max_token_length', 'self', 'value', 'isinstance', 'value', 'int', 'TypeError', 'type', 'value', 'value', 'ValueError', 'value', 'self', '_max_token_length', 'value'], identifiers_type=<IdentifiersTypes.STRING: 'string'>, start_byte=3667, start_line=86, start_column=4, end_byte=3980, end_line=91, end_column=38), bag_of_tokens=['max_token_length', 'self', 'value', 'isinstance', 'value', 'int', 'TypeError', 'type', 'value', 'value', 'ValueError', 'value', 'self', '_max_token_length', 'value'], file_path='/mnt/c/Users/Yuriy Rogachev/PycharmProjects/code duplication detection/duplication/tokenizer/buckwheat/subtokenizer.py'), similarity=0.8666666666666667), CloneData(entity_1=EntityData(object_data=ObjectData(object_type=<ObjectTypes.FUNCTION: 'function'>, content='def stem_threshold(self, value):\\n        if not isinstance(value, int):\\n            raise TypeError(\"stem_threshold must be an integer - got %s\" % type(value))\\n        if value < 1:\\n            raise ValueError(\"stem_threshold must be greater than 0 - got %d\" % value)\\n        self._stem_threshold = value', lang='Python', identifiers=['stem_threshold', 'self', 'value', 'isinstance', 'value', 'int', 'TypeError', 'type', 'value', 'value', 'ValueError', 'value', 'self', '_stem_threshold', 'value'], identifiers_type=<IdentifiersTypes.STRING: 'string'>, start_byte=3242, start_line=74, start_column=4, end_byte=3547, end_line=79, end_column=36), bag_of_tokens=['stem_threshold', 'self', 'value', 'isinstance', 'value', 'int', 'TypeError', 'type', 'value', 'value', 'ValueError', 'value', 'self', '_stem_threshold', 'value'], file_path='/mnt/c/Users/Yuriy Rogachev/PycharmProjects/code duplication detection/duplication/tokenizer/buckwheat/subtokenizer.py'), entity_2=EntityData(object_data=ObjectData(object_type=<ObjectTypes.FUNCTION: 'function'>, content='def min_split_length(self, value):\\n        if not isinstance(value, int):\\n            raise TypeError(\"min_split_length must be an integer - got %s\" % type(value))\\n        if value < 1:\\n            raise ValueError(\"min_split_length must be greater than 0 - got %d\" % value)\\n        self._min_split_length = value', lang='Python', identifiers=['min_split_length', 'self', 'value', 'isinstance', 'value', 'int', 'TypeError', 'type', 'value', 'value', 'ValueError', 'value', 'self', '_min_split_length', 'value'], identifiers_type=<IdentifiersTypes.STRING: 'string'>, start_byte=4100, start_line=98, start_column=4, end_byte=4413, end_line=103, end_column=38), bag_of_tokens=['min_split_length', 'self', 'value', 'isinstance', 'value', 'int', 'TypeError', 'type', 'value', 'value', 'ValueError', 'value', 'self', '_min_split_length', 'value'], file_path='/mnt/c/Users/Yuriy Rogachev/PycharmProjects/code duplication detection/duplication/tokenizer/buckwheat/subtokenizer.py'), similarity=0.8666666666666667), CloneData(entity_1=EntityData(object_data=ObjectData(object_type=<ObjectTypes.FUNCTION: 'function'>, content='def max_token_length(self, value):\\n        if not isinstance(value, int):\\n            raise TypeError(\"max_token_length must be an integer - got %s\" % type(value))\\n        if value < 1:\\n            raise ValueError(\"max_token_length must be greater than 0 - got %d\" % value)\\n        self._max_token_length = value', lang='Python', identifiers=['max_token_length', 'self', 'value', 'isinstance', 'value', 'int', 'TypeError', 'type', 'value', 'value', 'ValueError', 'value', 'self', '_max_token_length', 'value'], identifiers_type=<IdentifiersTypes.STRING: 'string'>, start_byte=3667, start_line=86, start_column=4, end_byte=3980, end_line=91, end_column=38), bag_of_tokens=['max_token_length', 'self', 'value', 'isinstance', 'value', 'int', 'TypeError', 'type', 'value', 'value', 'ValueError', 'value', 'self', '_max_token_length', 'value'], file_path='/mnt/c/Users/Yuriy Rogachev/PycharmProjects/code duplication detection/duplication/tokenizer/buckwheat/subtokenizer.py'), entity_2=EntityData(object_data=ObjectData(object_type=<ObjectTypes.FUNCTION: 'function'>, content='def min_split_length(self, value):\\n        if not isinstance(value, int):\\n            raise TypeError(\"min_split_length must be an integer - got %s\" % type(value))\\n        if value < 1:\\n            raise ValueError(\"min_split_length must be greater than 0 - got %d\" % value)\\n        self._min_split_length = value', lang='Python', identifiers=['min_split_length', 'self', 'value', 'isinstance', 'value', 'int', 'TypeError', 'type', 'value', 'value', 'ValueError', 'value', 'self', '_min_split_length', 'value'], identifiers_type=<IdentifiersTypes.STRING: 'string'>, start_byte=4100, start_line=98, start_column=4, end_byte=4413, end_line=103, end_column=38), bag_of_tokens=['min_split_length', 'self', 'value', 'isinstance', 'value', 'int', 'TypeError', 'type', 'value', 'value', 'ValueError', 'value', 'self', '_min_split_length', 'value'], file_path='/mnt/c/Users/Yuriy Rogachev/PycharmProjects/code duplication detection/duplication/tokenizer/buckwheat/subtokenizer.py'), similarity=0.8666666666666667)], used_algorithm='NaiveDetector(), directory: /mnt/c/Users/Yuriy Rogachev/PycharmProjects/code duplication detection, threshold: 0.8, granularity: functions')"
      ]
     },
     "execution_count": 32,
     "metadata": {},
     "output_type": "execute_result"
    }
   ],
   "source": [
    "results"
   ]
  },
  {
   "cell_type": "code",
   "execution_count": 50,
   "id": "5028e4b2",
   "metadata": {},
   "outputs": [
    {
     "data": {
      "text/plain": [
       "'\\n    <table class=\"diff\" id=\"difflib_chg_to38__top\"\\n           cellspacing=\"0\" cellpadding=\"0\" rules=\"groups\" >\\n        <colgroup></colgroup> <colgroup></colgroup> <colgroup></colgroup>\\n        <colgroup></colgroup> <colgroup></colgroup> <colgroup></colgroup>\\n        \\n        <tbody>\\n            <tr><td class=\"diff_next\" id=\"difflib_chg_to38__0\"><a href=\"#difflib_chg_to38__0\">f</a></td><td class=\"diff_header\" id=\"from38_1\">1</td><td nowrap=\"nowrap\">a</td><td class=\"diff_next\"><a href=\"#difflib_chg_to38__0\">f</a></td><td class=\"diff_header\" id=\"to38_1\">1</td><td nowrap=\"nowrap\">a</td></tr>\\n            <tr><td class=\"diff_next\"></td><td class=\"diff_header\" id=\"from38_2\">2</td><td nowrap=\"nowrap\">b</td><td class=\"diff_next\"></td><td class=\"diff_header\" id=\"to38_2\">2</td><td nowrap=\"nowrap\">b</td></tr>\\n            <tr><td class=\"diff_next\"><a href=\"#difflib_chg_to38__top\">t</a></td><td class=\"diff_header\" id=\"from38_3\">3</td><td nowrap=\"nowrap\"><span class=\"diff_sub\">d</span></td><td class=\"diff_next\"><a href=\"#difflib_chg_to38__top\">t</a></td><td class=\"diff_header\" id=\"to38_3\">3</td><td nowrap=\"nowrap\"><span class=\"diff_add\">s</span></td></tr>\\n        </tbody>\\n    </table>'"
      ]
     },
     "execution_count": 50,
     "metadata": {},
     "output_type": "execute_result"
    }
   ],
   "source": []
  },
  {
   "cell_type": "code",
   "execution_count": null,
   "id": "9d88dcfd",
   "metadata": {},
   "outputs": [],
   "source": []
  }
 ],
 "metadata": {
  "kernelspec": {
   "display_name": "Python 3",
   "language": "python",
   "name": "python3"
  },
  "language_info": {
   "codemirror_mode": {
    "name": "ipython",
    "version": 3
   },
   "file_extension": ".py",
   "mimetype": "text/x-python",
   "name": "python",
   "nbconvert_exporter": "python",
   "pygments_lexer": "ipython3",
   "version": "3.8.5"
  }
 },
 "nbformat": 4,
 "nbformat_minor": 5
}
