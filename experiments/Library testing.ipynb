{
 "cells": [
  {
   "cell_type": "code",
   "execution_count": 1,
   "id": "0bf19329",
   "metadata": {},
   "outputs": [
    {
     "name": "stdout",
     "output_type": "stream",
     "text": [
      "Python 3.8.5 (default, Jan 27 2021, 15:41:15) \n",
      "[GCC 9.3.0] on linux\n"
     ]
    }
   ],
   "source": [
    "%load_ext autoreload\n",
    "%autoreload 2\n",
    "\n",
    "import sys\n",
    "print('Python %s on %s' % (sys.version, sys.platform))\n",
    "sys.path.extend(['/mnt/c/Users/Yuriy Rogachev/PycharmProjects/code duplication detection', '/mnt/c/Users/Yuriy Rogachev/PycharmProjects/code duplication detection'])\n",
    "\n",
    "import os\n",
    "from pathlib import Path\n",
    "from typing import *\n",
    "\n",
    "cwd = os.getcwd()\n",
    "test_dir = Path(cwd).parent/\"duplication\"/\"test_data\""
   ]
  },
  {
   "cell_type": "code",
   "execution_count": null,
   "id": "2eb26a85",
   "metadata": {},
   "outputs": [],
   "source": []
  },
  {
   "cell_type": "markdown",
   "id": "dc279728",
   "metadata": {},
   "source": [
    "# Labrary testing"
   ]
  },
  {
   "cell_type": "code",
   "execution_count": 17,
   "id": "116267b9",
   "metadata": {},
   "outputs": [],
   "source": [
    "from duplication.run import *"
   ]
  },
  {
   "cell_type": "code",
   "execution_count": 2,
   "id": "0eb43a3b",
   "metadata": {},
   "outputs": [],
   "source": [
    "from duplication.detectors import NaiveDetector"
   ]
  },
  {
   "cell_type": "code",
   "execution_count": 62,
   "id": "0f32c075",
   "metadata": {},
   "outputs": [],
   "source": [
    "naive_detector = NaiveDetector()\n",
    "clones = naive_detector.detect(test_dir, 0.2, \"functions\").clones"
   ]
  },
  {
   "cell_type": "code",
   "execution_count": 63,
   "id": "7be3f2d3",
   "metadata": {},
   "outputs": [
    {
     "name": "stdout",
     "output_type": "stream",
     "text": [
      "2\n"
     ]
    }
   ],
   "source": [
    "print(len(clones))"
   ]
  },
  {
   "cell_type": "code",
   "execution_count": 65,
   "id": "7f42450e",
   "metadata": {},
   "outputs": [
    {
     "name": "stdout",
     "output_type": "stream",
     "text": [
      "public static void main(String[] args) {\n",
      "        System.out.println(\"Hello World!\");\n",
      "    }\n",
      "\n",
      "public static void SomeFunction(int a) {\n",
      "        System.out.println(a);\n",
      "    }\n",
      "\n",
      "0.5\n"
     ]
    }
   ],
   "source": [
    "print(clones[0][0].object_data.content)\n",
    "print()\n",
    "print(clones[0][1].object_data.content)\n",
    "print()\n",
    "print(clones[0][2])"
   ]
  },
  {
   "cell_type": "code",
   "execution_count": 44,
   "id": "b8418acd",
   "metadata": {},
   "outputs": [
    {
     "data": {
      "text/plain": [
       "(EntityData(object_data=ObjectData(object_type=<ObjectTypes.FUNCTION: 'function'>, content='public static void main(String[] args) {\\n        System.out.println(\"Hello World!\");\\n    }', lang='Java', identifiers=['main', 'String', 'args', 'System', 'out', 'println'], identifiers_type=<IdentifiersTypes.STRING: 'string'>, start_byte=23, start_line=1, start_column=4, end_byte=113, end_line=3, end_column=5), bag_of_tokens=['main', 'String', 'args', 'System', 'out', 'println'], file_path='/mnt/c/Users/Yuriy Rogachev/PycharmProjects/code duplication detection/duplication/test_data/test_file.java'),\n",
       " EntityData(object_data=ObjectData(object_type=<ObjectTypes.FUNCTION: 'function'>, content='public static void SomeFunction(int a) {\\n        System.out.println(a);\\n    }', lang='Java', identifiers=['SomeFunction', 'a', 'System', 'out', 'println', 'a'], identifiers_type=<IdentifiersTypes.STRING: 'string'>, start_byte=119, start_line=5, start_column=4, end_byte=196, end_line=7, end_column=5), bag_of_tokens=['SomeFunction', 'a', 'System', 'out', 'println', 'a'], file_path='/mnt/c/Users/Yuriy Rogachev/PycharmProjects/code duplication detection/duplication/test_data/test_file.java'),\n",
       " 0.5)"
      ]
     },
     "execution_count": 44,
     "metadata": {},
     "output_type": "execute_result"
    }
   ],
   "source": [
    "clones[0]"
   ]
  },
  {
   "cell_type": "code",
   "execution_count": 16,
   "id": "08f9cb1d",
   "metadata": {},
   "outputs": [
    {
     "data": {
      "text/plain": [
       "0.45454545454545453"
      ]
     },
     "execution_count": 16,
     "metadata": {},
     "output_type": "execute_result"
    }
   ],
   "source": [
    "(1 + 1 + 1 +1 + 1 + 1 + 1 + 1 + 1 + 1) / (22)"
   ]
  },
  {
   "cell_type": "code",
   "execution_count": 86,
   "id": "ed8eba50",
   "metadata": {},
   "outputs": [
    {
     "name": "stdout",
     "output_type": "stream",
     "text": [
      "{'constructor_declaration', 'class_declaration', 'interface_declaration', 'identifier', 'type_identifier', 'method_declaration'}\n",
      "program\n",
      "local_variable_declaration\n",
      "modifiers\n",
      "public\n",
      "static\n",
      "void_type\n",
      "variable_declarator\n",
      "identifier\n",
      "<Node kind=identifier, start_point=(0, 19), end_point=(0, 23)>\n",
      ";\n",
      "ERROR\n",
      "formal_parameters\n",
      "(\n",
      "formal_parameter\n",
      "array_type\n",
      "type_identifier\n",
      "<Node kind=type_identifier, start_point=(0, 24), end_point=(0, 30)>\n",
      "dimensions\n",
      "[\n",
      "]\n",
      "identifier\n",
      "<Node kind=identifier, start_point=(0, 33), end_point=(0, 37)>\n",
      ")\n",
      "block\n",
      "{\n",
      "expression_statement\n",
      "method_invocation\n",
      "field_access\n",
      "identifier\n",
      "<Node kind=identifier, start_point=(1, 8), end_point=(1, 14)>\n",
      ".\n",
      "identifier\n",
      "<Node kind=identifier, start_point=(1, 15), end_point=(1, 18)>\n",
      ".\n",
      "identifier\n",
      "<Node kind=identifier, start_point=(1, 19), end_point=(1, 26)>\n",
      "argument_list\n",
      "(\n",
      "string_literal\n",
      ")\n",
      ";\n",
      "}\n"
     ]
    },
    {
     "data": {
      "text/plain": [
       "['main', 'String', 'args', 'System', 'out', 'println']"
      ]
     },
     "execution_count": 86,
     "metadata": {},
     "output_type": "execute_result"
    }
   ],
   "source": [
    "lang = \"Java\"\n",
    "code = clones[0][0].object_data.content\n",
    "\n",
    "code = bytes(code, \"utf-8\")\n",
    "tree = get_parser(TreeSitterParser.PARSERS[lang]).parse(code)\n",
    "root = tree.root_node\n",
    "\n",
    "node = root\n",
    "node_types = TreeSitterParser.merge_nodes_for_lang(lang)\n",
    "print(node_types)\n",
    "token_nodes = TreeSitterParser.traverse_tree(node, node_types)\n",
    "tokens_sequence = []\n",
    "\n",
    "for token_node in token_nodes:\n",
    "    print(token_node)\n",
    "    token = TreeSitterParser.get_identifier_from_node(code, token_node, False)\n",
    "\n",
    "    tokens_sequence.append(token)\n",
    "\n",
    "\n",
    "tokens_sequence"
   ]
  },
  {
   "cell_type": "code",
   "execution_count": 76,
   "id": "e3e5c370",
   "metadata": {
    "scrolled": true
   },
   "outputs": [
    {
     "name": "stdout",
     "output_type": "stream",
     "text": [
      "{'constructor_declaration', 'class_declaration', 'interface_declaration', 'identifier', 'type_identifier', 'method_declaration'}\n"
     ]
    },
    {
     "data": {
      "text/plain": [
       "['main', 'String', 'args', 'System', 'out', 'println']"
      ]
     },
     "execution_count": 76,
     "metadata": {},
     "output_type": "execute_result"
    }
   ],
   "source": [
    "get_identifiers_sequence_from_code(clones[0][0].object_data.content, \"Java\", False, False)"
   ]
  },
  {
   "cell_type": "code",
   "execution_count": 73,
   "id": "be7390d8",
   "metadata": {},
   "outputs": [
    {
     "data": {
      "text/plain": [
       "['some', 'function', 'system', 'out', 'println']"
      ]
     },
     "execution_count": 73,
     "metadata": {},
     "output_type": "execute_result"
    }
   ],
   "source": [
    "get_identifiers_sequence_from_code(clones[0][1].object_data.content, \"Java\", False, True)"
   ]
  },
  {
   "cell_type": "code",
   "execution_count": 66,
   "id": "2ac6aaf7",
   "metadata": {},
   "outputs": [
    {
     "data": {
      "text/plain": [
       "['some_func1', 'a', 's', 'x', 'a', 's', 'x', 's']"
      ]
     },
     "execution_count": 66,
     "metadata": {},
     "output_type": "execute_result"
    }
   ],
   "source": [
    "id1"
   ]
  },
  {
   "cell_type": "code",
   "execution_count": 67,
   "id": "37ba297c",
   "metadata": {},
   "outputs": [
    {
     "data": {
      "text/plain": [
       "['some_func1', 'a', 's', 'x', 'a', 's', 'x', 's', 'x', 's']"
      ]
     },
     "execution_count": 67,
     "metadata": {},
     "output_type": "execute_result"
    }
   ],
   "source": [
    "id2"
   ]
  },
  {
   "cell_type": "code",
   "execution_count": 55,
   "id": "f68a19a8",
   "metadata": {},
   "outputs": [],
   "source": [
    "from collections import Counter"
   ]
  },
  {
   "cell_type": "code",
   "execution_count": 61,
   "id": "6aa55334",
   "metadata": {},
   "outputs": [
    {
     "data": {
      "text/plain": [
       "8"
      ]
     },
     "execution_count": 61,
     "metadata": {},
     "output_type": "execute_result"
    }
   ],
   "source": [
    "sum((Counter(id1) & Counter(id2)).values())"
   ]
  },
  {
   "cell_type": "code",
   "execution_count": 21,
   "id": "f9d57073",
   "metadata": {},
   "outputs": [
    {
     "data": {
      "text/plain": [
       "0.46153846153846156"
      ]
     },
     "execution_count": 21,
     "metadata": {},
     "output_type": "execute_result"
    }
   ],
   "source": [
    "6/13"
   ]
  },
  {
   "cell_type": "code",
   "execution_count": null,
   "id": "6f85a6c7",
   "metadata": {},
   "outputs": [],
   "source": []
  }
 ],
 "metadata": {
  "kernelspec": {
   "display_name": "Python 3",
   "language": "python",
   "name": "python3"
  },
  "language_info": {
   "codemirror_mode": {
    "name": "ipython",
    "version": 3
   },
   "file_extension": ".py",
   "mimetype": "text/x-python",
   "name": "python",
   "nbconvert_exporter": "python",
   "pygments_lexer": "ipython3",
   "version": "3.8.5"
  }
 },
 "nbformat": 4,
 "nbformat_minor": 5
}
