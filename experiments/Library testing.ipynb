{
 "cells": [
  {
   "cell_type": "code",
   "execution_count": 1,
   "id": "018b3f0e",
   "metadata": {},
   "outputs": [
    {
     "name": "stdout",
     "output_type": "stream",
     "text": [
      "Python 3.8.5 (default, Jan 27 2021, 15:41:15) \n",
      "[GCC 9.3.0] on linux\n"
     ]
    }
   ],
   "source": [
    "%load_ext autoreload\n",
    "%autoreload 2\n",
    "\n",
    "import sys\n",
    "print('Python %s on %s' % (sys.version, sys.platform))\n",
    "sys.path.extend(['/mnt/c/Users/Yuriy Rogachev/PycharmProjects/code duplication detection', '/mnt/c/Users/Yuriy Rogachev/PycharmProjects/code duplication detection'])\n",
    "\n",
    "import os\n",
    "from pathlib import Path\n",
    "from typing import *\n",
    "\n",
    "cwd = os.getcwd()\n",
    "test_dir = Path(cwd).parent/\"duplication\"/\"test_data\""
   ]
  },
  {
   "cell_type": "code",
   "execution_count": null,
   "id": "301024a8",
   "metadata": {},
   "outputs": [],
   "source": []
  },
  {
   "cell_type": "markdown",
   "id": "95a82a5d",
   "metadata": {},
   "source": [
    "# Labrary testing"
   ]
  },
  {
   "cell_type": "code",
   "execution_count": 17,
   "id": "6a29a2ad",
   "metadata": {},
   "outputs": [],
   "source": [
    "from duplication.run import *"
   ]
  },
  {
   "cell_type": "code",
   "execution_count": 2,
   "id": "cda9e203",
   "metadata": {},
   "outputs": [],
   "source": [
    "from duplication.detectors import NaiveDetector"
   ]
  },
  {
   "cell_type": "code",
   "execution_count": 34,
   "id": "bbb85733",
   "metadata": {},
   "outputs": [],
   "source": [
    "naive_detector = NaiveDetector()\n",
    "clones = naive_detector.detect(test_dir, 0.2, \"functions\").clones"
   ]
  },
  {
   "cell_type": "code",
   "execution_count": 35,
   "id": "e37f1c19",
   "metadata": {},
   "outputs": [
    {
     "name": "stdout",
     "output_type": "stream",
     "text": [
      "2\n"
     ]
    }
   ],
   "source": [
    "print(len(clones))"
   ]
  },
  {
   "cell_type": "code",
   "execution_count": 36,
   "id": "4ef6ae24",
   "metadata": {},
   "outputs": [
    {
     "name": "stdout",
     "output_type": "stream",
     "text": [
      "public static void main(String[] args) {\n",
      "        System.out.println(\"Hello World!\");\n",
      "    }\n",
      "\n",
      "public static void SomeFunction(int a) {\n",
      "        System.out.println(a);\n",
      "    }\n",
      "\n",
      "0.5\n"
     ]
    }
   ],
   "source": [
    "print(clones[0][0].object_data.content)\n",
    "print()\n",
    "print(clones[0][1].object_data.content)\n",
    "print()\n",
    "print(clones[0][2])"
   ]
  },
  {
   "cell_type": "code",
   "execution_count": 27,
   "id": "9dbd25a4",
   "metadata": {},
   "outputs": [
    {
     "data": {
      "text/plain": [
       "(EntityData(object_data=ObjectData(object_type=<ObjectTypes.CLASS: 'class'>, content='class Detector:\\n    def detect(self, directory: str, threshold: float, granularity: str) -> DetectionResult:\\n        raise NotImplemented', lang='Python', identifiers=['Detector', 'detect', 'self', 'directory', 'str', 'threshold', 'float', 'granularity', 'str', 'DetectionResult', 'NotImplemented'], identifiers_type=<IdentifiersTypes.STRING: 'string'>, start_byte=380, start_line=10, start_column=0, end_byte=517, end_line=12, end_column=28), bag_of_tokens=['Detector', 'detect', 'self', 'directory', 'str', 'threshold', 'float', 'granularity', 'str', 'DetectionResult', 'NotImplemented'], file_path='/mnt/c/Users/Yuriy Rogachev/PycharmProjects/code duplication detection/duplication/detectors.py'),\n",
       " EntityData(object_data=ObjectData(object_type=<ObjectTypes.FUNCTION: 'function'>, content='def detect(self, directory: str, threshold: float, granularity: str) -> DetectionResult:\\n        raise NotImplemented', lang='Python', identifiers=['detect', 'self', 'directory', 'str', 'threshold', 'float', 'granularity', 'str', 'DetectionResult', 'NotImplemented'], identifiers_type=<IdentifiersTypes.STRING: 'string'>, start_byte=400, start_line=11, start_column=4, end_byte=517, end_line=12, end_column=28), bag_of_tokens=['detect', 'self', 'directory', 'str', 'threshold', 'float', 'granularity', 'str', 'DetectionResult', 'NotImplemented'], file_path='/mnt/c/Users/Yuriy Rogachev/PycharmProjects/code duplication detection/duplication/detectors.py'),\n",
       " 0.8181818181818182)"
      ]
     },
     "execution_count": 27,
     "metadata": {},
     "output_type": "execute_result"
    }
   ],
   "source": [
    "clones[0]"
   ]
  },
  {
   "cell_type": "code",
   "execution_count": 16,
   "id": "58ebb30e",
   "metadata": {},
   "outputs": [
    {
     "data": {
      "text/plain": [
       "0.45454545454545453"
      ]
     },
     "execution_count": 16,
     "metadata": {},
     "output_type": "execute_result"
    }
   ],
   "source": [
    "(1 + 1 + 1 +1 + 1 + 1 + 1 + 1 + 1 + 1) / (22)"
   ]
  },
  {
   "cell_type": "code",
   "execution_count": 42,
   "id": "35342709",
   "metadata": {
    "scrolled": true
   },
   "outputs": [
    {
     "data": {
      "text/plain": [
       "['main', 'String', 'args', 'System', 'out', 'println']"
      ]
     },
     "execution_count": 42,
     "metadata": {},
     "output_type": "execute_result"
    }
   ],
   "source": [
    "get_identifiers_sequence_from_code(clones[0][0].object_data.content, \"Java\", False, False)"
   ]
  },
  {
   "cell_type": "code",
   "execution_count": 43,
   "id": "be2deee7",
   "metadata": {},
   "outputs": [
    {
     "data": {
      "text/plain": [
       "['SomeFunction', 'a', 'System', 'out', 'println', 'a']"
      ]
     },
     "execution_count": 43,
     "metadata": {},
     "output_type": "execute_result"
    }
   ],
   "source": [
    "get_identifiers_sequence_from_code(clones[0][1].object_data.content, \"Java\", False, False)"
   ]
  },
  {
   "cell_type": "code",
   "execution_count": 21,
   "id": "de30b06c",
   "metadata": {},
   "outputs": [
    {
     "data": {
      "text/plain": [
       "0.46153846153846156"
      ]
     },
     "execution_count": 21,
     "metadata": {},
     "output_type": "execute_result"
    }
   ],
   "source": [
    "6/13"
   ]
  },
  {
   "cell_type": "code",
   "execution_count": null,
   "id": "d5245e53",
   "metadata": {},
   "outputs": [],
   "source": []
  }
 ],
 "metadata": {
  "kernelspec": {
   "display_name": "Python 3",
   "language": "python",
   "name": "python3"
  },
  "language_info": {
   "codemirror_mode": {
    "name": "ipython",
    "version": 3
   },
   "file_extension": ".py",
   "mimetype": "text/x-python",
   "name": "python",
   "nbconvert_exporter": "python",
   "pygments_lexer": "ipython3",
   "version": "3.8.5"
  }
 },
 "nbformat": 4,
 "nbformat_minor": 5
}
