{
 "cells": [
  {
   "cell_type": "code",
   "execution_count": 6,
   "metadata": {},
   "outputs": [
    {
     "name": "stdout",
     "output_type": "stream",
     "text": [
      "Python 3.8.5 (default, Jan 27 2021, 15:41:15) \n",
      "[GCC 9.3.0] on linux\n"
     ]
    }
   ],
   "source": [
    "import sys\n",
    "print('Python %s on %s' % (sys.version, sys.platform))\n",
    "sys.path.extend(['/mnt/c/Users/Yuriy Rogachev/PycharmProjects/code duplication detection', '/mnt/c/Users/Yuriy Rogachev/PycharmProjects/code duplication detection'])\n"
   ]
  },
  {
   "cell_type": "code",
   "execution_count": 7,
   "metadata": {},
   "outputs": [
    {
     "name": "stdout",
     "output_type": "stream",
     "text": [
      "The autoreload extension is already loaded. To reload it, use:\n",
      "  %reload_ext autoreload\n"
     ]
    }
   ],
   "source": [
    "%load_ext autoreload\n",
    "%autoreload 2"
   ]
  },
  {
   "cell_type": "code",
   "execution_count": 8,
   "metadata": {},
   "outputs": [
    {
     "data": {
      "text/plain": [
       "PosixPath('/mnt/c/Users/Yuriy Rogachev/PycharmProjects/code duplication detection/duplication/test_data')"
      ]
     },
     "execution_count": 8,
     "metadata": {},
     "output_type": "execute_result"
    }
   ],
   "source": [
    "import os\n",
    "from pathlib import Path\n",
    "\n",
    "cwd = os.getcwd()\n",
    "test_dir = Path(cwd).parent/\"duplication\"/\"test_data\"\n",
    "test_dir"
   ]
  },
  {
   "cell_type": "code",
   "execution_count": 9,
   "metadata": {},
   "outputs": [],
   "source": [
    "from collections import Counter"
   ]
  },
  {
   "cell_type": "markdown",
   "metadata": {},
   "source": [
    "# Tokenizer"
   ]
  },
  {
   "cell_type": "code",
   "execution_count": 17,
   "metadata": {},
   "outputs": [],
   "source": [
    "from duplication.run import *"
   ]
  },
  {
   "cell_type": "code",
   "execution_count": 18,
   "metadata": {},
   "outputs": [
    {
     "data": {
      "text/plain": [
       "{'C++': ['test.cpp'], 'Java': ['test_file.java'], 'Kotlin': ['test_file.kt']}"
      ]
     },
     "execution_count": 18,
     "metadata": {},
     "output_type": "execute_result"
    }
   ],
   "source": [
    "recognize_languages_dir(test_dir)"
   ]
  },
  {
   "cell_type": "code",
   "execution_count": 11,
   "metadata": {
    "scrolled": true
   },
   "outputs": [],
   "source": [
    "data = get_identifiers_sequence_from_file(test_dir/\"test_file.kt\", \"Kotlin\", False, False)"
   ]
  },
  {
   "cell_type": "code",
   "execution_count": 12,
   "metadata": {},
   "outputs": [
    {
     "data": {
      "text/plain": [
       "Counter({'cli': 1,\n",
       "         'main': 5,\n",
       "         'args': 11,\n",
       "         'Array': 1,\n",
       "         'isEmpty': 1,\n",
       "         'println': 1,\n",
       "         'trimIndent': 1,\n",
       "         'ProjectPreprocessor': 1,\n",
       "         'sliceArray': 4,\n",
       "         'until': 4,\n",
       "         'size': 4,\n",
       "         'ProjectParser': 1,\n",
       "         'PathContextsExtractor': 1,\n",
       "         'Code2VecExtractor': 1,\n",
       "         'Exception': 1})"
      ]
     },
     "execution_count": 12,
     "metadata": {},
     "output_type": "execute_result"
    }
   ],
   "source": [
    "Counter(data)"
   ]
  },
  {
   "cell_type": "code",
   "execution_count": 13,
   "metadata": {},
   "outputs": [],
   "source": [
    "before = {\"args\": 11, \"main\": 5, \"array\": 5, \"slice\": 4, \"until\": 4, \"size\": 4,\n",
    "                          \"project\": 2, \"extractor\": 2, \"cli\": 1, \"empty\": 1,\n",
    "                          \"isempti\": 1, \"println\": 1, \"trim\": 1, \"indent\": 1, \"preprocessor\": 1,\n",
    "                          \"parser\": 1, \"path\": 1, \"context\": 1, \"code\": 1, \"vec\": 1, \"except\": 1}\n",
    "after = dict(Counter(data))"
   ]
  },
  {
   "cell_type": "code",
   "execution_count": 14,
   "metadata": {},
   "outputs": [
    {
     "data": {
      "text/plain": [
       "False"
      ]
     },
     "execution_count": 14,
     "metadata": {},
     "output_type": "execute_result"
    }
   ],
   "source": [
    "sorted(before.keys()) == sorted(after.keys())"
   ]
  },
  {
   "cell_type": "code",
   "execution_count": 15,
   "metadata": {},
   "outputs": [
    {
     "data": {
      "text/plain": [
       "['args',\n",
       " 'array',\n",
       " 'cli',\n",
       " 'code',\n",
       " 'context',\n",
       " 'empty',\n",
       " 'except',\n",
       " 'extractor',\n",
       " 'indent',\n",
       " 'isempti',\n",
       " 'main',\n",
       " 'parser',\n",
       " 'path',\n",
       " 'preprocessor',\n",
       " 'println',\n",
       " 'project',\n",
       " 'size',\n",
       " 'slice',\n",
       " 'trim',\n",
       " 'until',\n",
       " 'vec']"
      ]
     },
     "execution_count": 15,
     "metadata": {},
     "output_type": "execute_result"
    }
   ],
   "source": [
    "sorted(before.keys()) "
   ]
  },
  {
   "cell_type": "code",
   "execution_count": 16,
   "metadata": {},
   "outputs": [
    {
     "data": {
      "text/plain": [
       "['Array',\n",
       " 'Code2VecExtractor',\n",
       " 'Exception',\n",
       " 'PathContextsExtractor',\n",
       " 'ProjectParser',\n",
       " 'ProjectPreprocessor',\n",
       " 'args',\n",
       " 'cli',\n",
       " 'isEmpty',\n",
       " 'main',\n",
       " 'println',\n",
       " 'size',\n",
       " 'sliceArray',\n",
       " 'trimIndent',\n",
       " 'until']"
      ]
     },
     "execution_count": 16,
     "metadata": {},
     "output_type": "execute_result"
    }
   ],
   "source": [
    "sorted(after.keys())"
   ]
  },
  {
   "cell_type": "code",
   "execution_count": null,
   "metadata": {},
   "outputs": [],
   "source": []
  }
 ],
 "metadata": {
  "kernelspec": {
   "display_name": "Python 3",
   "language": "python",
   "name": "python3"
  },
  "language_info": {
   "codemirror_mode": {
    "name": "ipython",
    "version": 3
   },
   "file_extension": ".py",
   "mimetype": "text/x-python",
   "name": "python",
   "nbconvert_exporter": "python",
   "pygments_lexer": "ipython3",
   "version": "3.8.5"
  }
 },
 "nbformat": 4,
 "nbformat_minor": 5
}
