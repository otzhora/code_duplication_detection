{
 "cells": [
  {
   "cell_type": "code",
   "execution_count": 1,
   "id": "242577be",
   "metadata": {},
   "outputs": [
    {
     "name": "stdout",
     "output_type": "stream",
     "text": [
      "Python 3.8.6 (tags/v3.8.6:db45529, Sep 23 2020, 15:52:53) [MSC v.1927 64 bit (AMD64)] on win32\n"
     ]
    }
   ],
   "source": [
    "import sys\n",
    "print('Python %s on %s' % (sys.version, sys.platform))\n",
    "sys.path.extend(['C:\\\\Users\\\\Yuriy Rogachev\\\\PycharmProjects\\\\code duplication detection', 'C:/Users/Yuriy Rogachev/PycharmProjects/code duplication detection'])"
   ]
  },
  {
   "cell_type": "code",
   "execution_count": 2,
   "id": "dc7d3bec",
   "metadata": {},
   "outputs": [],
   "source": [
    "%load_ext autoreload\n",
    "%autoreload 2"
   ]
  },
  {
   "cell_type": "code",
   "execution_count": 5,
   "id": "ba314014",
   "metadata": {},
   "outputs": [
    {
     "data": {
      "text/plain": [
       "WindowsPath('C:/Users/Yuriy Rogachev/PycharmProjects/code duplication detection/duplication/test_data')"
      ]
     },
     "execution_count": 5,
     "metadata": {},
     "output_type": "execute_result"
    }
   ],
   "source": [
    "import os\n",
    "from pathlib import Path\n",
    "\n",
    "cwd = os.getcwd()\n",
    "test_dir = Path(cwd).parent/\"duplication\"/\"test_data\"\n",
    "test_dir"
   ]
  },
  {
   "cell_type": "markdown",
   "id": "1aae1617",
   "metadata": {},
   "source": [
    "# Tokenizer"
   ]
  },
  {
   "cell_type": "code",
   "execution_count": 3,
   "id": "e998518e",
   "metadata": {},
   "outputs": [],
   "source": [
    "from duplication.run import *"
   ]
  },
  {
   "cell_type": "code",
   "execution_count": 9,
   "id": "1064cf86",
   "metadata": {},
   "outputs": [],
   "source": [
    "data = get_data_from_file(test_dir/\"test_file.java\", \"Java\", True, True)"
   ]
  },
  {
   "cell_type": "code",
   "execution_count": 11,
   "id": "42d15a1b",
   "metadata": {},
   "outputs": [
    {
     "data": {
      "text/plain": [
       "['HelloWorld', 'main', 'String', 'args', 'System', 'out', 'println']"
      ]
     },
     "execution_count": 11,
     "metadata": {},
     "output_type": "execute_result"
    }
   ],
   "source": [
    "data.identifiers"
   ]
  },
  {
   "cell_type": "code",
   "execution_count": null,
   "id": "6d22b62f",
   "metadata": {},
   "outputs": [],
   "source": []
  }
 ],
 "metadata": {
  "kernelspec": {
   "display_name": "Python 3",
   "language": "python",
   "name": "python3"
  },
  "language_info": {
   "codemirror_mode": {
    "name": "ipython",
    "version": 3
   },
   "file_extension": ".py",
   "mimetype": "text/x-python",
   "name": "python",
   "nbconvert_exporter": "python",
   "pygments_lexer": "ipython3",
   "version": "3.8.6"
  }
 },
 "nbformat": 4,
 "nbformat_minor": 5
}
